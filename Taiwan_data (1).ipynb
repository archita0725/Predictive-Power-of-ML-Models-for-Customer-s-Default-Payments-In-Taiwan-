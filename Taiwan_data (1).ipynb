{
 "cells": [
  {
   "cell_type": "code",
   "execution_count": 1,
   "metadata": {
    "id": "ZIG7vhsJTXu7"
   },
   "outputs": [],
   "source": [
    "import pandas as pd\n",
    "import numpy as np\n",
    "import matplotlib.pyplot as plt\n",
    "import seaborn as sns\n",
    "from sklearn.linear_model import LogisticRegression\n",
    "from sklearn.ensemble import RandomForestClassifier\n",
    "from sklearn.tree import DecisionTreeClassifier\n",
    "from sklearn import metrics\n",
    "from sklearn.model_selection import GridSearchCV,StratifiedKFold"
   ]
  },
  {
   "cell_type": "code",
   "execution_count": 2,
   "metadata": {},
   "outputs": [
    {
     "data": {
      "text/html": [
       "<div>\n",
       "<style scoped>\n",
       "    .dataframe tbody tr th:only-of-type {\n",
       "        vertical-align: middle;\n",
       "    }\n",
       "\n",
       "    .dataframe tbody tr th {\n",
       "        vertical-align: top;\n",
       "    }\n",
       "\n",
       "    .dataframe thead th {\n",
       "        text-align: right;\n",
       "    }\n",
       "</style>\n",
       "<table border=\"1\" class=\"dataframe\">\n",
       "  <thead>\n",
       "    <tr style=\"text-align: right;\">\n",
       "      <th></th>\n",
       "      <th>Unnamed: 0</th>\n",
       "      <th>X1</th>\n",
       "      <th>X2</th>\n",
       "      <th>X3</th>\n",
       "      <th>X4</th>\n",
       "      <th>X5</th>\n",
       "      <th>X6</th>\n",
       "      <th>X7</th>\n",
       "      <th>X8</th>\n",
       "      <th>X9</th>\n",
       "      <th>...</th>\n",
       "      <th>X15</th>\n",
       "      <th>X16</th>\n",
       "      <th>X17</th>\n",
       "      <th>X18</th>\n",
       "      <th>X19</th>\n",
       "      <th>X20</th>\n",
       "      <th>X21</th>\n",
       "      <th>X22</th>\n",
       "      <th>X23</th>\n",
       "      <th>Y</th>\n",
       "    </tr>\n",
       "  </thead>\n",
       "  <tbody>\n",
       "    <tr>\n",
       "      <th>0</th>\n",
       "      <td>1</td>\n",
       "      <td>20000</td>\n",
       "      <td>2</td>\n",
       "      <td>2</td>\n",
       "      <td>1</td>\n",
       "      <td>24</td>\n",
       "      <td>2</td>\n",
       "      <td>2</td>\n",
       "      <td>-1</td>\n",
       "      <td>-1</td>\n",
       "      <td>...</td>\n",
       "      <td>0</td>\n",
       "      <td>0</td>\n",
       "      <td>0</td>\n",
       "      <td>0</td>\n",
       "      <td>689</td>\n",
       "      <td>0</td>\n",
       "      <td>0</td>\n",
       "      <td>0</td>\n",
       "      <td>0</td>\n",
       "      <td>1</td>\n",
       "    </tr>\n",
       "    <tr>\n",
       "      <th>1</th>\n",
       "      <td>2</td>\n",
       "      <td>120000</td>\n",
       "      <td>2</td>\n",
       "      <td>2</td>\n",
       "      <td>2</td>\n",
       "      <td>26</td>\n",
       "      <td>-1</td>\n",
       "      <td>2</td>\n",
       "      <td>0</td>\n",
       "      <td>0</td>\n",
       "      <td>...</td>\n",
       "      <td>3272</td>\n",
       "      <td>3455</td>\n",
       "      <td>3261</td>\n",
       "      <td>0</td>\n",
       "      <td>1000</td>\n",
       "      <td>1000</td>\n",
       "      <td>1000</td>\n",
       "      <td>0</td>\n",
       "      <td>2000</td>\n",
       "      <td>1</td>\n",
       "    </tr>\n",
       "    <tr>\n",
       "      <th>2</th>\n",
       "      <td>3</td>\n",
       "      <td>90000</td>\n",
       "      <td>2</td>\n",
       "      <td>2</td>\n",
       "      <td>2</td>\n",
       "      <td>34</td>\n",
       "      <td>0</td>\n",
       "      <td>0</td>\n",
       "      <td>0</td>\n",
       "      <td>0</td>\n",
       "      <td>...</td>\n",
       "      <td>14331</td>\n",
       "      <td>14948</td>\n",
       "      <td>15549</td>\n",
       "      <td>1518</td>\n",
       "      <td>1500</td>\n",
       "      <td>1000</td>\n",
       "      <td>1000</td>\n",
       "      <td>1000</td>\n",
       "      <td>5000</td>\n",
       "      <td>0</td>\n",
       "    </tr>\n",
       "    <tr>\n",
       "      <th>3</th>\n",
       "      <td>4</td>\n",
       "      <td>50000</td>\n",
       "      <td>2</td>\n",
       "      <td>2</td>\n",
       "      <td>1</td>\n",
       "      <td>37</td>\n",
       "      <td>0</td>\n",
       "      <td>0</td>\n",
       "      <td>0</td>\n",
       "      <td>0</td>\n",
       "      <td>...</td>\n",
       "      <td>28314</td>\n",
       "      <td>28959</td>\n",
       "      <td>29547</td>\n",
       "      <td>2000</td>\n",
       "      <td>2019</td>\n",
       "      <td>1200</td>\n",
       "      <td>1100</td>\n",
       "      <td>1069</td>\n",
       "      <td>1000</td>\n",
       "      <td>0</td>\n",
       "    </tr>\n",
       "    <tr>\n",
       "      <th>4</th>\n",
       "      <td>5</td>\n",
       "      <td>50000</td>\n",
       "      <td>1</td>\n",
       "      <td>2</td>\n",
       "      <td>1</td>\n",
       "      <td>57</td>\n",
       "      <td>-1</td>\n",
       "      <td>0</td>\n",
       "      <td>-1</td>\n",
       "      <td>0</td>\n",
       "      <td>...</td>\n",
       "      <td>20940</td>\n",
       "      <td>19146</td>\n",
       "      <td>19131</td>\n",
       "      <td>2000</td>\n",
       "      <td>36681</td>\n",
       "      <td>10000</td>\n",
       "      <td>9000</td>\n",
       "      <td>689</td>\n",
       "      <td>679</td>\n",
       "      <td>0</td>\n",
       "    </tr>\n",
       "  </tbody>\n",
       "</table>\n",
       "<p>5 rows × 25 columns</p>\n",
       "</div>"
      ],
      "text/plain": [
       "   Unnamed: 0      X1  X2  X3  X4  X5  X6  X7  X8  X9  ...    X15    X16  \\\n",
       "0           1   20000   2   2   1  24   2   2  -1  -1  ...      0      0   \n",
       "1           2  120000   2   2   2  26  -1   2   0   0  ...   3272   3455   \n",
       "2           3   90000   2   2   2  34   0   0   0   0  ...  14331  14948   \n",
       "3           4   50000   2   2   1  37   0   0   0   0  ...  28314  28959   \n",
       "4           5   50000   1   2   1  57  -1   0  -1   0  ...  20940  19146   \n",
       "\n",
       "     X17   X18    X19    X20   X21   X22   X23  Y  \n",
       "0      0     0    689      0     0     0     0  1  \n",
       "1   3261     0   1000   1000  1000     0  2000  1  \n",
       "2  15549  1518   1500   1000  1000  1000  5000  0  \n",
       "3  29547  2000   2019   1200  1100  1069  1000  0  \n",
       "4  19131  2000  36681  10000  9000   689   679  0  \n",
       "\n",
       "[5 rows x 25 columns]"
      ]
     },
     "execution_count": 2,
     "metadata": {},
     "output_type": "execute_result"
    }
   ],
   "source": [
    "df=pd.read_excel(r'C:\\Users\\Archita Biswas\\Dropbox\\My PC (LAPTOP-ILMTPGHN)\\Documents\\default of credit card clients.xlsx')\n",
    "df.head()"
   ]
  },
  {
   "cell_type": "code",
   "execution_count": 3,
   "metadata": {
    "colab": {
     "base_uri": "https://localhost:8080/"
    },
    "id": "ssOlIW-OWxgZ",
    "outputId": "338878ac-6330-4a64-e8c9-6b4693e94a13"
   },
   "outputs": [
    {
     "data": {
      "text/html": [
       "<div>\n",
       "<style scoped>\n",
       "    .dataframe tbody tr th:only-of-type {\n",
       "        vertical-align: middle;\n",
       "    }\n",
       "\n",
       "    .dataframe tbody tr th {\n",
       "        vertical-align: top;\n",
       "    }\n",
       "\n",
       "    .dataframe thead th {\n",
       "        text-align: right;\n",
       "    }\n",
       "</style>\n",
       "<table border=\"1\" class=\"dataframe\">\n",
       "  <thead>\n",
       "    <tr style=\"text-align: right;\">\n",
       "      <th></th>\n",
       "      <th>X1</th>\n",
       "      <th>X2</th>\n",
       "      <th>X3</th>\n",
       "      <th>X4</th>\n",
       "      <th>X5</th>\n",
       "      <th>X6</th>\n",
       "      <th>X7</th>\n",
       "      <th>X8</th>\n",
       "      <th>X9</th>\n",
       "      <th>X10</th>\n",
       "      <th>...</th>\n",
       "      <th>X15</th>\n",
       "      <th>X16</th>\n",
       "      <th>X17</th>\n",
       "      <th>X18</th>\n",
       "      <th>X19</th>\n",
       "      <th>X20</th>\n",
       "      <th>X21</th>\n",
       "      <th>X22</th>\n",
       "      <th>X23</th>\n",
       "      <th>Y</th>\n",
       "    </tr>\n",
       "  </thead>\n",
       "  <tbody>\n",
       "    <tr>\n",
       "      <th>0</th>\n",
       "      <td>20000</td>\n",
       "      <td>2</td>\n",
       "      <td>2</td>\n",
       "      <td>1</td>\n",
       "      <td>24</td>\n",
       "      <td>2</td>\n",
       "      <td>2</td>\n",
       "      <td>-1</td>\n",
       "      <td>-1</td>\n",
       "      <td>-2</td>\n",
       "      <td>...</td>\n",
       "      <td>0</td>\n",
       "      <td>0</td>\n",
       "      <td>0</td>\n",
       "      <td>0</td>\n",
       "      <td>689</td>\n",
       "      <td>0</td>\n",
       "      <td>0</td>\n",
       "      <td>0</td>\n",
       "      <td>0</td>\n",
       "      <td>1</td>\n",
       "    </tr>\n",
       "    <tr>\n",
       "      <th>1</th>\n",
       "      <td>120000</td>\n",
       "      <td>2</td>\n",
       "      <td>2</td>\n",
       "      <td>2</td>\n",
       "      <td>26</td>\n",
       "      <td>-1</td>\n",
       "      <td>2</td>\n",
       "      <td>0</td>\n",
       "      <td>0</td>\n",
       "      <td>0</td>\n",
       "      <td>...</td>\n",
       "      <td>3272</td>\n",
       "      <td>3455</td>\n",
       "      <td>3261</td>\n",
       "      <td>0</td>\n",
       "      <td>1000</td>\n",
       "      <td>1000</td>\n",
       "      <td>1000</td>\n",
       "      <td>0</td>\n",
       "      <td>2000</td>\n",
       "      <td>1</td>\n",
       "    </tr>\n",
       "    <tr>\n",
       "      <th>2</th>\n",
       "      <td>90000</td>\n",
       "      <td>2</td>\n",
       "      <td>2</td>\n",
       "      <td>2</td>\n",
       "      <td>34</td>\n",
       "      <td>0</td>\n",
       "      <td>0</td>\n",
       "      <td>0</td>\n",
       "      <td>0</td>\n",
       "      <td>0</td>\n",
       "      <td>...</td>\n",
       "      <td>14331</td>\n",
       "      <td>14948</td>\n",
       "      <td>15549</td>\n",
       "      <td>1518</td>\n",
       "      <td>1500</td>\n",
       "      <td>1000</td>\n",
       "      <td>1000</td>\n",
       "      <td>1000</td>\n",
       "      <td>5000</td>\n",
       "      <td>0</td>\n",
       "    </tr>\n",
       "    <tr>\n",
       "      <th>3</th>\n",
       "      <td>50000</td>\n",
       "      <td>2</td>\n",
       "      <td>2</td>\n",
       "      <td>1</td>\n",
       "      <td>37</td>\n",
       "      <td>0</td>\n",
       "      <td>0</td>\n",
       "      <td>0</td>\n",
       "      <td>0</td>\n",
       "      <td>0</td>\n",
       "      <td>...</td>\n",
       "      <td>28314</td>\n",
       "      <td>28959</td>\n",
       "      <td>29547</td>\n",
       "      <td>2000</td>\n",
       "      <td>2019</td>\n",
       "      <td>1200</td>\n",
       "      <td>1100</td>\n",
       "      <td>1069</td>\n",
       "      <td>1000</td>\n",
       "      <td>0</td>\n",
       "    </tr>\n",
       "    <tr>\n",
       "      <th>4</th>\n",
       "      <td>50000</td>\n",
       "      <td>1</td>\n",
       "      <td>2</td>\n",
       "      <td>1</td>\n",
       "      <td>57</td>\n",
       "      <td>-1</td>\n",
       "      <td>0</td>\n",
       "      <td>-1</td>\n",
       "      <td>0</td>\n",
       "      <td>0</td>\n",
       "      <td>...</td>\n",
       "      <td>20940</td>\n",
       "      <td>19146</td>\n",
       "      <td>19131</td>\n",
       "      <td>2000</td>\n",
       "      <td>36681</td>\n",
       "      <td>10000</td>\n",
       "      <td>9000</td>\n",
       "      <td>689</td>\n",
       "      <td>679</td>\n",
       "      <td>0</td>\n",
       "    </tr>\n",
       "  </tbody>\n",
       "</table>\n",
       "<p>5 rows × 24 columns</p>\n",
       "</div>"
      ],
      "text/plain": [
       "       X1  X2  X3  X4  X5  X6  X7  X8  X9  X10  ...    X15    X16    X17  \\\n",
       "0   20000   2   2   1  24   2   2  -1  -1   -2  ...      0      0      0   \n",
       "1  120000   2   2   2  26  -1   2   0   0    0  ...   3272   3455   3261   \n",
       "2   90000   2   2   2  34   0   0   0   0    0  ...  14331  14948  15549   \n",
       "3   50000   2   2   1  37   0   0   0   0    0  ...  28314  28959  29547   \n",
       "4   50000   1   2   1  57  -1   0  -1   0    0  ...  20940  19146  19131   \n",
       "\n",
       "    X18    X19    X20   X21   X22   X23  Y  \n",
       "0     0    689      0     0     0     0  1  \n",
       "1     0   1000   1000  1000     0  2000  1  \n",
       "2  1518   1500   1000  1000  1000  5000  0  \n",
       "3  2000   2019   1200  1100  1069  1000  0  \n",
       "4  2000  36681  10000  9000   689   679  0  \n",
       "\n",
       "[5 rows x 24 columns]"
      ]
     },
     "execution_count": 3,
     "metadata": {},
     "output_type": "execute_result"
    }
   ],
   "source": [
    "df.drop(df.columns[[0]],axis=1,inplace=True)\n",
    "df.head()\n"
   ]
  },
  {
   "cell_type": "code",
   "execution_count": 4,
   "metadata": {},
   "outputs": [],
   "source": [
    "df[\"X2\"]=df[\"X2\"].astype(\"category\")\n",
    "df[\"X3\"]=df[\"X3\"].astype(\"category\")\n",
    "df[\"X4\"]=df[\"X4\"].astype(\"category\")\n",
    "df[\"Y\"]=df[\"Y\"].astype(\"category\")"
   ]
  },
  {
   "cell_type": "code",
   "execution_count": 5,
   "metadata": {
    "colab": {
     "base_uri": "https://localhost:8080/"
    },
    "id": "DGlflgZyXgI9",
    "outputId": "894401e3-3652-4188-c63d-72e1cdd9dc5e"
   },
   "outputs": [
    {
     "data": {
      "text/plain": [
       "X1        int64\n",
       "X2     category\n",
       "X3     category\n",
       "X4     category\n",
       "X5        int64\n",
       "X6        int64\n",
       "X7        int64\n",
       "X8        int64\n",
       "X9        int64\n",
       "X10       int64\n",
       "X11       int64\n",
       "X12       int64\n",
       "X13       int64\n",
       "X14       int64\n",
       "X15       int64\n",
       "X16       int64\n",
       "X17       int64\n",
       "X18       int64\n",
       "X19       int64\n",
       "X20       int64\n",
       "X21       int64\n",
       "X22       int64\n",
       "X23       int64\n",
       "Y      category\n",
       "dtype: object"
      ]
     },
     "execution_count": 5,
     "metadata": {},
     "output_type": "execute_result"
    }
   ],
   "source": [
    "df.dtypes"
   ]
  },
  {
   "cell_type": "markdown",
   "metadata": {
    "id": "6MI1Jo5QXuxF"
   },
   "source": [
    "***Checking for NULL Values***"
   ]
  },
  {
   "cell_type": "code",
   "execution_count": 6,
   "metadata": {
    "colab": {
     "base_uri": "https://localhost:8080/"
    },
    "id": "cZ9j4cZuX3tb",
    "outputId": "e7f90034-27f7-4be0-a020-d98c2985b4fe"
   },
   "outputs": [
    {
     "data": {
      "text/plain": [
       "X1     0\n",
       "X2     0\n",
       "X3     0\n",
       "X4     0\n",
       "X5     0\n",
       "X6     0\n",
       "X7     0\n",
       "X8     0\n",
       "X9     0\n",
       "X10    0\n",
       "X11    0\n",
       "X12    0\n",
       "X13    0\n",
       "X14    0\n",
       "X15    0\n",
       "X16    0\n",
       "X17    0\n",
       "X18    0\n",
       "X19    0\n",
       "X20    0\n",
       "X21    0\n",
       "X22    0\n",
       "X23    0\n",
       "Y      0\n",
       "dtype: int64"
      ]
     },
     "execution_count": 6,
     "metadata": {},
     "output_type": "execute_result"
    }
   ],
   "source": [
    "df.isnull().sum()"
   ]
  },
  {
   "cell_type": "code",
   "execution_count": 7,
   "metadata": {
    "colab": {
     "base_uri": "https://localhost:8080/",
     "height": 207
    },
    "id": "SnYTU41VYC3V",
    "outputId": "8b0a0398-91af-4bf6-fa4a-0ae46443298a"
   },
   "outputs": [
    {
     "data": {
      "text/html": [
       "<div>\n",
       "<style scoped>\n",
       "    .dataframe tbody tr th:only-of-type {\n",
       "        vertical-align: middle;\n",
       "    }\n",
       "\n",
       "    .dataframe tbody tr th {\n",
       "        vertical-align: top;\n",
       "    }\n",
       "\n",
       "    .dataframe thead th {\n",
       "        text-align: right;\n",
       "    }\n",
       "</style>\n",
       "<table border=\"1\" class=\"dataframe\">\n",
       "  <thead>\n",
       "    <tr style=\"text-align: right;\">\n",
       "      <th></th>\n",
       "      <th>X1</th>\n",
       "      <th>X5</th>\n",
       "      <th>X6</th>\n",
       "      <th>X7</th>\n",
       "      <th>X8</th>\n",
       "      <th>X9</th>\n",
       "      <th>X10</th>\n",
       "      <th>X11</th>\n",
       "      <th>X12</th>\n",
       "      <th>X13</th>\n",
       "      <th>X14</th>\n",
       "      <th>X15</th>\n",
       "      <th>X16</th>\n",
       "      <th>X17</th>\n",
       "      <th>X18</th>\n",
       "      <th>X19</th>\n",
       "      <th>X20</th>\n",
       "      <th>X21</th>\n",
       "      <th>X22</th>\n",
       "      <th>X23</th>\n",
       "    </tr>\n",
       "    <tr>\n",
       "      <th>Y</th>\n",
       "      <th></th>\n",
       "      <th></th>\n",
       "      <th></th>\n",
       "      <th></th>\n",
       "      <th></th>\n",
       "      <th></th>\n",
       "      <th></th>\n",
       "      <th></th>\n",
       "      <th></th>\n",
       "      <th></th>\n",
       "      <th></th>\n",
       "      <th></th>\n",
       "      <th></th>\n",
       "      <th></th>\n",
       "      <th></th>\n",
       "      <th></th>\n",
       "      <th></th>\n",
       "      <th></th>\n",
       "      <th></th>\n",
       "      <th></th>\n",
       "    </tr>\n",
       "  </thead>\n",
       "  <tbody>\n",
       "    <tr>\n",
       "      <th>0</th>\n",
       "      <td>178099.726074</td>\n",
       "      <td>35.417266</td>\n",
       "      <td>-0.211222</td>\n",
       "      <td>-0.301917</td>\n",
       "      <td>-0.316256</td>\n",
       "      <td>-0.355633</td>\n",
       "      <td>-0.389488</td>\n",
       "      <td>-0.405624</td>\n",
       "      <td>51994.227273</td>\n",
       "      <td>49717.435670</td>\n",
       "      <td>47533.365605</td>\n",
       "      <td>43611.165254</td>\n",
       "      <td>40530.445343</td>\n",
       "      <td>39042.268704</td>\n",
       "      <td>6307.337357</td>\n",
       "      <td>6640.465074</td>\n",
       "      <td>5753.496833</td>\n",
       "      <td>5300.529319</td>\n",
       "      <td>5248.220296</td>\n",
       "      <td>5719.371769</td>\n",
       "    </tr>\n",
       "    <tr>\n",
       "      <th>1</th>\n",
       "      <td>130109.656420</td>\n",
       "      <td>35.725738</td>\n",
       "      <td>0.668174</td>\n",
       "      <td>0.458258</td>\n",
       "      <td>0.362116</td>\n",
       "      <td>0.254521</td>\n",
       "      <td>0.167872</td>\n",
       "      <td>0.112116</td>\n",
       "      <td>48509.162297</td>\n",
       "      <td>47283.617842</td>\n",
       "      <td>45181.598855</td>\n",
       "      <td>42036.950573</td>\n",
       "      <td>39540.190476</td>\n",
       "      <td>38271.435503</td>\n",
       "      <td>3397.044153</td>\n",
       "      <td>3388.649638</td>\n",
       "      <td>3367.351567</td>\n",
       "      <td>3155.626733</td>\n",
       "      <td>3219.139542</td>\n",
       "      <td>3441.482068</td>\n",
       "    </tr>\n",
       "  </tbody>\n",
       "</table>\n",
       "</div>"
      ],
      "text/plain": [
       "              X1         X5        X6        X7        X8        X9       X10  \\\n",
       "Y                                                                               \n",
       "0  178099.726074  35.417266 -0.211222 -0.301917 -0.316256 -0.355633 -0.389488   \n",
       "1  130109.656420  35.725738  0.668174  0.458258  0.362116  0.254521  0.167872   \n",
       "\n",
       "        X11           X12           X13           X14           X15  \\\n",
       "Y                                                                     \n",
       "0 -0.405624  51994.227273  49717.435670  47533.365605  43611.165254   \n",
       "1  0.112116  48509.162297  47283.617842  45181.598855  42036.950573   \n",
       "\n",
       "            X16           X17          X18          X19          X20  \\\n",
       "Y                                                                      \n",
       "0  40530.445343  39042.268704  6307.337357  6640.465074  5753.496833   \n",
       "1  39540.190476  38271.435503  3397.044153  3388.649638  3367.351567   \n",
       "\n",
       "           X21          X22          X23  \n",
       "Y                                         \n",
       "0  5300.529319  5248.220296  5719.371769  \n",
       "1  3155.626733  3219.139542  3441.482068  "
      ]
     },
     "execution_count": 7,
     "metadata": {},
     "output_type": "execute_result"
    }
   ],
   "source": [
    "df.groupby(['Y']).mean()"
   ]
  },
  {
   "cell_type": "code",
   "execution_count": 8,
   "metadata": {
    "colab": {
     "base_uri": "https://localhost:8080/"
    },
    "id": "bYIFfNOhY8rc",
    "outputId": "683dc8c9-112d-4aa7-f872-c9a7bfef938e"
   },
   "outputs": [
    {
     "data": {
      "text/plain": [
       "0    23364\n",
       "1     6636\n",
       "Name: Y, dtype: int64"
      ]
     },
     "execution_count": 8,
     "metadata": {},
     "output_type": "execute_result"
    }
   ],
   "source": [
    "df[\"Y\"].value_counts()"
   ]
  },
  {
   "cell_type": "code",
   "execution_count": 9,
   "metadata": {
    "id": "IF7zFkwiY_Qs"
   },
   "outputs": [],
   "source": [
    "X=df.drop([\"Y\"],axis=1)\n",
    "Y_resp=df.Y"
   ]
  },
  {
   "cell_type": "markdown",
   "metadata": {
    "id": "668qnmrFZDyV"
   },
   "source": [
    "**Basic EDA**\n",
    "\n",
    "\n",
    "**Countplot for Sex**"
   ]
  },
  {
   "cell_type": "code",
   "execution_count": 10,
   "metadata": {
    "id": "hCXLIlCgZHEe"
   },
   "outputs": [
    {
     "data": {
      "image/png": "[encoded data removed]",
      "text/plain": [
       "<Figure size 432x288 with 1 Axes>"
      ]
     },
     "metadata": {
      "needs_background": "light"
     },
     "output_type": "display_data"
    }
   ],
   "source": [
    "sns.countplot(x='X2',data=X,palette=\"Set2\")\n",
    "plt.show()"
   ]
  },
  {
   "cell_type": "markdown",
   "metadata": {
    "id": "AFb3rtgTZpxb"
   },
   "source": [
    "**Countplot for Education**"
   ]
  },
  {
   "cell_type": "code",
   "execution_count": 11,
   "metadata": {
    "colab": {
     "base_uri": "https://localhost:8080/",
     "height": 1000
    },
    "id": "NHHG5p7zZtG3",
    "outputId": "0e49c7cf-2a7d-4084-df82-4aaf3cbec4dd"
   },
   "outputs": [
    {
     "data": {
      "image/png": "[encoded data removed]",
      "text/plain": [
       "<Figure size 432x288 with 1 Axes>"
      ]
     },
     "metadata": {
      "needs_background": "light"
     },
     "output_type": "display_data"
    }
   ],
   "source": [
    "sns.countplot(x='X3',data=X,palette=\"Set2\")\n",
    "plt.show()"
   ]
  },
  {
   "cell_type": "markdown",
   "metadata": {
    "id": "e4KWItx9Z1hg"
   },
   "source": [
    "**Countplot for Marriage**"
   ]
  },
  {
   "cell_type": "code",
   "execution_count": 12,
   "metadata": {
    "colab": {
     "base_uri": "https://localhost:8080/",
     "height": 987
    },
    "id": "erTKZcH2Z6w6",
    "outputId": "dae1a115-fcd8-4b7b-b0b6-5e153c3b68bc"
   },
   "outputs": [
    {
     "data": {
      "image/png": "[encoded data removed]",
      "text/plain": [
       "<Figure size 432x288 with 1 Axes>"
      ]
     },
     "metadata": {
      "needs_background": "light"
     },
     "output_type": "display_data"
    }
   ],
   "source": [
    "sns.countplot(x='X4',data=X,palette=\"Set2\")\n",
    "plt.show()"
   ]
  },
  {
   "cell_type": "markdown",
   "metadata": {
    "id": "VEhAIdjca-Tt"
   },
   "source": [
    "**Countplot for Response**"
   ]
  },
  {
   "cell_type": "code",
   "execution_count": 13,
   "metadata": {
    "colab": {
     "base_uri": "https://localhost:8080/",
     "height": 987
    },
    "id": "YCIduamibCe6",
    "outputId": "431baf0e-8ff6-4aa3-ef18-2821a9b510ab"
   },
   "outputs": [
    {
     "data": {
      "image/png": "[encoded data removed]",
      "text/plain": [
       "<Figure size 432x288 with 1 Axes>"
      ]
     },
     "metadata": {
      "needs_background": "light"
     },
     "output_type": "display_data"
    }
   ],
   "source": [
    "sns.countplot(x=\"Y\",data=df,palette=\"Set2\")\n",
    "plt.show()"
   ]
  },
  {
   "cell_type": "markdown",
   "metadata": {
    "id": "s9w1BulQbRmZ"
   },
   "source": [
    "**Boxplot**"
   ]
  },
  {
   "cell_type": "code",
   "execution_count": 14,
   "metadata": {
    "colab": {
     "base_uri": "https://localhost:8080/",
     "height": 1000
    },
    "id": "3h9vscsubT6F",
    "outputId": "7c94bdb7-b953-457b-a6e4-689083ef3ad3"
   },
   "outputs": [
    {
     "data": {
      "image/png": "[encoded data removed]",
      "text/plain": [
       "<Figure size 1440x1440 with 1 Axes>"
      ]
     },
     "metadata": {
      "needs_background": "light"
     },
     "output_type": "display_data"
    }
   ],
   "source": [
    "plt.figure(figsize = (20,20))\n",
    "ax = sns.boxplot(data=df[[\"X1\",\"X2\",\"X3\",\"X4\",\"X5\",\"X6\",\"X7\",\"X8\",\"X9\",\"X10\",\"X11\",\"X12\",\"X13\",\"X14\",\"X15\",\"X16\",\"X17\",\"X18\",\"X19\",\"X20\",\"X21\",\"X22\",\"X23\",\"Y\"]], \n",
    "                 palette=\"OrRd\",orient='v' )"
   ]
  },
  {
   "cell_type": "markdown",
   "metadata": {
    "id": "kB8Kg1uBbimK"
   },
   "source": [
    "**Histogram for Covariates**"
   ]
  },
  {
   "cell_type": "code",
   "execution_count": 15,
   "metadata": {
    "colab": {
     "base_uri": "https://localhost:8080/",
     "height": 1000
    },
    "id": "lgGr4qC7bl62",
    "outputId": "c197db0f-e094-4675-e0cf-023d7f455f6d"
   },
   "outputs": [
    {
     "data": {
      "text/plain": [
       "array([[<AxesSubplot:title={'center':'X1'}>,\n",
       "        <AxesSubplot:title={'center':'X5'}>,\n",
       "        <AxesSubplot:title={'center':'X6'}>,\n",
       "        <AxesSubplot:title={'center':'X7'}>,\n",
       "        <AxesSubplot:title={'center':'X8'}>,\n",
       "        <AxesSubplot:title={'center':'X9'}>],\n",
       "       [<AxesSubplot:title={'center':'X10'}>,\n",
       "        <AxesSubplot:title={'center':'X11'}>,\n",
       "        <AxesSubplot:title={'center':'X12'}>,\n",
       "        <AxesSubplot:title={'center':'X13'}>,\n",
       "        <AxesSubplot:title={'center':'X14'}>,\n",
       "        <AxesSubplot:title={'center':'X15'}>],\n",
       "       [<AxesSubplot:title={'center':'X16'}>,\n",
       "        <AxesSubplot:title={'center':'X17'}>,\n",
       "        <AxesSubplot:title={'center':'X18'}>,\n",
       "        <AxesSubplot:title={'center':'X19'}>,\n",
       "        <AxesSubplot:title={'center':'X20'}>,\n",
       "        <AxesSubplot:title={'center':'X21'}>],\n",
       "       [<AxesSubplot:title={'center':'X22'}>,\n",
       "        <AxesSubplot:title={'center':'X23'}>, <AxesSubplot:>,\n",
       "        <AxesSubplot:>, <AxesSubplot:>, <AxesSubplot:>],\n",
       "       [<AxesSubplot:>, <AxesSubplot:>, <AxesSubplot:>, <AxesSubplot:>,\n",
       "        <AxesSubplot:>, <AxesSubplot:>]], dtype=object)"
      ]
     },
     "execution_count": 15,
     "metadata": {},
     "output_type": "execute_result"
    },
    {
     "data": {
      "image/png": "[encoded data removed]",
      "text/plain": [
       "<Figure size 1080x936 with 30 Axes>"
      ]
     },
     "metadata": {
      "needs_background": "light"
     },
     "output_type": "display_data"
    }
   ],
   "source": [
    "df.hist(layout=(5,6),color=\"red\",figsize=(15,13),grid=True)"
   ]
  },
  {
   "cell_type": "markdown",
   "metadata": {
    "id": "Nj6jqRCkcSIo"
   },
   "source": [
    "**Histogram for Response**"
   ]
  },
  {
   "cell_type": "code",
   "execution_count": 16,
   "metadata": {
    "colab": {
     "base_uri": "https://localhost:8080/",
     "height": 1000
    },
    "id": "336MqWfycZ_n",
    "outputId": "71249292-038f-418d-f9f1-2245fa1425b8"
   },
   "outputs": [
    {
     "data": {
      "text/plain": [
       "Text(0, 0.5, 'Count')"
      ]
     },
     "execution_count": 16,
     "metadata": {},
     "output_type": "execute_result"
    },
    {
     "data": {
      "image/png": "[encoded data removed]",
      "text/plain": [
       "<Figure size 432x288 with 1 Axes>"
      ]
     },
     "metadata": {
      "needs_background": "light"
     },
     "output_type": "display_data"
    }
   ],
   "source": [
    "from scipy.stats import norm\n",
    "plt.hist(df.Y,bins=10)\n",
    "plt.xlabel('Default')\n",
    "plt.ylabel('Count')"
   ]
  },
  {
   "cell_type": "markdown",
   "metadata": {
    "id": "k0wPWsgEdbLM"
   },
   "source": [
    "**Splitting the dataset into test-train**"
   ]
  },
  {
   "cell_type": "code",
   "execution_count": 17,
   "metadata": {
    "colab": {
     "background_save": true
    },
    "id": "r2Frh3RQdjIS"
   },
   "outputs": [],
   "source": [
    "from sklearn.model_selection import train_test_split\n",
    "X_train,X_test,Y_train,Y_test=train_test_split(X,Y_resp,test_size=0.3,random_state=10)"
   ]
  },
  {
   "cell_type": "code",
   "execution_count": 18,
   "metadata": {
    "colab": {
     "background_save": true
    },
    "id": "yudOJLgOyWA2"
   },
   "outputs": [],
   "source": [
    "from sklearn.preprocessing import StandardScaler\n",
    "sc_x = StandardScaler()\n",
    "xtrain = sc_x.fit_transform(X_train) \n",
    "xtest = sc_x.transform(X_test) "
   ]
  },
  {
   "cell_type": "markdown",
   "metadata": {
    "id": "ll2ToCLVfD7v"
   },
   "source": [
    "**Fitting Models**\n",
    "\n",
    "**Logistic Regression**"
   ]
  },
  {
   "cell_type": "code",
   "execution_count": 19,
   "metadata": {
    "colab": {
     "background_save": true
    },
    "id": "YnTbAJ3lex0M",
    "outputId": "1d1f36d1-1ad4-40ad-b7be-37b1ce7d89c8"
   },
   "outputs": [
    {
     "data": {
      "text/plain": [
       "0.8084444444444444"
      ]
     },
     "execution_count": 19,
     "metadata": {},
     "output_type": "execute_result"
    }
   ],
   "source": [
    "Model_LR=LogisticRegression(max_iter=700,C=3)\n",
    "Model_LR.fit(xtrain,Y_train)\n",
    "Y_PredLR=Model_LR.predict(xtest)\n",
    "Model_LR.score(xtest,Y_test)"
   ]
  },
  {
   "cell_type": "code",
   "execution_count": 20,
   "metadata": {
    "colab": {
     "background_save": true
    },
    "id": "pwNcxemixrdu",
    "outputId": "4ac5540e-df25-417d-f688-6ff4f0ce3bcb"
   },
   "outputs": [
    {
     "data": {
      "text/plain": [
       "0.809952380952381"
      ]
     },
     "execution_count": 20,
     "metadata": {},
     "output_type": "execute_result"
    }
   ],
   "source": [
    "Model_LR.score(xtrain,Y_train)"
   ]
  },
  {
   "cell_type": "code",
   "execution_count": 21,
   "metadata": {
    "colab": {
     "background_save": true
    },
    "id": "s8zGQ-awfZZp",
    "outputId": "98cc8d51-febc-4c4f-99df-7cc930a28620"
   },
   "outputs": [
    {
     "data": {
      "text/plain": [
       "array([[6818,  164],\n",
       "       [1560,  458]], dtype=int64)"
      ]
     },
     "execution_count": 21,
     "metadata": {},
     "output_type": "execute_result"
    }
   ],
   "source": [
    "from sklearn.metrics import confusion_matrix\n",
    "cm=confusion_matrix(Y_test,Y_PredLR)\n",
    "cm"
   ]
  },
  {
   "cell_type": "code",
   "execution_count": 22,
   "metadata": {
    "colab": {
     "background_save": true
    },
    "id": "A-wzVtzPwSag",
    "outputId": "f8850f45-27e5-43c5-984f-bc8e5bd6b899"
   },
   "outputs": [
    {
     "data": {
      "text/plain": [
       "Text(0.5, 1.0, 'Confusion Matrix')"
      ]
     },
     "execution_count": 22,
     "metadata": {},
     "output_type": "execute_result"
    },
    {
     "data": {
      "image/png": "[encoded data removed]",
      "text/plain": [
       "<Figure size 360x216 with 2 Axes>"
      ]
     },
     "metadata": {
      "needs_background": "light"
     },
     "output_type": "display_data"
    }
   ],
   "source": [
    "plt.figure(figsize=(5,3))\n",
    "sns.heatmap(cm,annot=True)\n",
    "plt.xlabel('Predicted Outcomes')\n",
    "plt.ylabel('Actual Outcomes')\n",
    "plt.title('Confusion Matrix')"
   ]
  },
  {
   "cell_type": "code",
   "execution_count": 23,
   "metadata": {
    "colab": {
     "background_save": true
    },
    "id": "8x3_zL12gKxd",
    "outputId": "4d22d9f7-9e4b-429b-b547-277fd8991711"
   },
   "outputs": [
    {
     "name": "stdout",
     "output_type": "stream",
     "text": [
      "              precision    recall  f1-score   support\n",
      "\n",
      "           0       0.81      0.98      0.89      6982\n",
      "           1       0.74      0.23      0.35      2018\n",
      "\n",
      "    accuracy                           0.81      9000\n",
      "   macro avg       0.78      0.60      0.62      9000\n",
      "weighted avg       0.80      0.81      0.77      9000\n",
      "\n"
     ]
    }
   ],
   "source": [
    "from sklearn.metrics import  classification_report\n",
    "print(classification_report(Y_test, Y_PredLR))"
   ]
  },
  {
   "cell_type": "code",
   "execution_count": 24,
   "metadata": {
    "colab": {
     "background_save": true
    },
    "id": "kE0kQbF7yz7J",
    "outputId": "4ea4a85e-3080-4459-9bc7-1ff9d16638c2"
   },
   "outputs": [
    {
     "name": "stdout",
     "output_type": "stream",
     "text": [
      "Accuracy score: 0.8084444444444444\n",
      "Precision score: 0.7363344051446945\n",
      "Recall score: 0.22695738354806738\n",
      "F1 score: 0.346969696969697\n",
      "Misclassification score: 0.1915555555555556\n"
     ]
    }
   ],
   "source": [
    "from sklearn.metrics import accuracy_score,precision_score,recall_score,f1_score\n",
    "print(\"Accuracy score: {}\".format(accuracy_score(Y_test,Y_PredLR)))\n",
    "print(\"Precision score: {}\".format(precision_score(Y_test,Y_PredLR)))\n",
    "print(\"Recall score: {}\".format(recall_score(Y_test,Y_PredLR)))\n",
    "print(\"F1 score: {}\".format(f1_score(Y_test,Y_PredLR)))\n",
    "print(\"Misclassification score: {}\".format((1-accuracy_score(Y_test,Y_PredLR))))"
   ]
  },
  {
   "cell_type": "markdown",
   "metadata": {
    "id": "k_vScy1chtSu"
   },
   "source": [
    "**RandomForest Classifier**"
   ]
  },
  {
   "cell_type": "code",
   "execution_count": 25,
   "metadata": {
    "colab": {
     "background_save": true
    },
    "id": "K_LTGGvKhxA_",
    "outputId": "318c2312-589a-4ce6-8391-d7c7338df3f7"
   },
   "outputs": [
    {
     "data": {
      "text/plain": [
       "0.8112222222222222"
      ]
     },
     "execution_count": 25,
     "metadata": {},
     "output_type": "execute_result"
    }
   ],
   "source": [
    "model_rf=RandomForestClassifier(n_estimators=500,max_depth=5)\n",
    "model_rf.fit(xtrain,Y_train)\n",
    "y_predRF=model_rf.predict(xtest)\n",
    "model_rf.score(xtest,Y_test)"
   ]
  },
  {
   "cell_type": "code",
   "execution_count": 26,
   "metadata": {
    "colab": {
     "background_save": true
    },
    "id": "BTerAm1B0BZ6",
    "outputId": "403f449e-d8a1-44ef-8d89-f790f54db28e"
   },
   "outputs": [
    {
     "data": {
      "text/plain": [
       "Text(0.5, 1.0, 'Confusion Matrix')"
      ]
     },
     "execution_count": 26,
     "metadata": {},
     "output_type": "execute_result"
    },
    {
     "data": {
      "image/png": "[encoded data removed]",
      "text/plain": [
       "<Figure size 360x216 with 2 Axes>"
      ]
     },
     "metadata": {
      "needs_background": "light"
     },
     "output_type": "display_data"
    }
   ],
   "source": [
    "cmRF=confusion_matrix(Y_test,y_predRF)\n",
    "plt.figure(figsize=(5,3))\n",
    "sns.heatmap(cmRF,annot=True)\n",
    "plt.xlabel('Predicted Outcomes')\n",
    "plt.ylabel('Actual Outcomes')\n",
    "plt.title('Confusion Matrix')"
   ]
  },
  {
   "cell_type": "code",
   "execution_count": 27,
   "metadata": {
    "colab": {
     "background_save": true
    },
    "id": "C-fMc_Q3iPnr",
    "outputId": "46cdd1ec-10cc-4bb6-98a2-585b42395bba"
   },
   "outputs": [
    {
     "name": "stdout",
     "output_type": "stream",
     "text": [
      "              precision    recall  f1-score   support\n",
      "\n",
      "           0       0.82      0.96      0.89      6982\n",
      "           1       0.69      0.28      0.40      2018\n",
      "\n",
      "    accuracy                           0.81      9000\n",
      "   macro avg       0.76      0.62      0.64      9000\n",
      "weighted avg       0.79      0.81      0.78      9000\n",
      "\n"
     ]
    }
   ],
   "source": [
    "print(classification_report(Y_test, y_predRF))"
   ]
  },
  {
   "cell_type": "code",
   "execution_count": 28,
   "metadata": {
    "colab": {
     "background_save": true
    },
    "id": "MhGUzxLKEY8U",
    "outputId": "dc70f80c-adcb-4c0c-f659-b07676e2a84e"
   },
   "outputs": [
    {
     "name": "stdout",
     "output_type": "stream",
     "text": [
      "Accuracy score: 0.8112222222222222\n",
      "Precision score: 0.6938031591737546\n",
      "Recall score: 0.2829534192269574\n",
      "F1 score: 0.40197113692361847\n",
      "Misclassification score: 0.18877777777777782\n"
     ]
    }
   ],
   "source": [
    "print(\"Accuracy score: {}\".format(accuracy_score(Y_test,y_predRF)))\n",
    "print(\"Precision score: {}\".format(precision_score(Y_test,y_predRF)))\n",
    "print(\"Recall score: {}\".format(recall_score(Y_test,y_predRF)))\n",
    "print(\"F1 score: {}\".format(f1_score(Y_test,y_predRF)))\n",
    "print(\"Misclassification score: {}\".format((1-accuracy_score(Y_test,y_predRF))))"
   ]
  },
  {
   "cell_type": "markdown",
   "metadata": {
    "id": "bAbAjg0qiYfz"
   },
   "source": [
    "**Decision Tree**"
   ]
  },
  {
   "cell_type": "code",
   "execution_count": 29,
   "metadata": {
    "colab": {
     "background_save": true
    },
    "id": "0Des-ReCibJd",
    "outputId": "ba106e80-fcce-47c0-fb5a-5f6411b9549d"
   },
   "outputs": [
    {
     "data": {
      "text/plain": [
       "0.8229047619047619"
      ]
     },
     "execution_count": 29,
     "metadata": {},
     "output_type": "execute_result"
    }
   ],
   "source": [
    "from sklearn.tree import DecisionTreeClassifier\n",
    "model_tree=DecisionTreeClassifier(max_depth=3)\n",
    "model_tree.fit(xtrain,Y_train)\n",
    "y_predDT=model_tree.predict(xtest)\n",
    "model_tree.score(xtrain,Y_train)"
   ]
  },
  {
   "cell_type": "code",
   "execution_count": 30,
   "metadata": {
    "colab": {
     "background_save": true
    },
    "id": "fKlijbwU2Mg7",
    "outputId": "3a5b7edb-efb5-4044-ee77-199d2c67b801"
   },
   "outputs": [
    {
     "data": {
      "text/plain": [
       "0.8204444444444444"
      ]
     },
     "execution_count": 30,
     "metadata": {},
     "output_type": "execute_result"
    }
   ],
   "source": [
    "model_tree.score(xtest,Y_test)"
   ]
  },
  {
   "cell_type": "code",
   "execution_count": 31,
   "metadata": {
    "colab": {
     "background_save": true
    },
    "id": "mulhYRLG0osL",
    "outputId": "fa7a1df3-c041-42f6-be4c-23ac0ccea47e"
   },
   "outputs": [
    {
     "data": {
      "text/plain": [
       "Text(24.0, 0.5, 'Actual Outcomes')"
      ]
     },
     "execution_count": 31,
     "metadata": {},
     "output_type": "execute_result"
    },
    {
     "data": {
      "image/png": "[encoded data removed]",
      "text/plain": [
       "<Figure size 360x216 with 2 Axes>"
      ]
     },
     "metadata": {
      "needs_background": "light"
     },
     "output_type": "display_data"
    }
   ],
   "source": [
    "cmDT=confusion_matrix(Y_test,y_predDT)\n",
    "plt.figure(figsize=(5,3))\n",
    "sns.heatmap(cmDT,annot=True)\n",
    "plt.xlabel('Predicted Outcomes')\n",
    "plt.ylabel('Actual Outcomes')"
   ]
  },
  {
   "cell_type": "code",
   "execution_count": 32,
   "metadata": {
    "colab": {
     "background_save": true
    },
    "id": "cYcVHTwNjWMh",
    "outputId": "411a6146-44ce-4f00-a275-26c86f2c6937"
   },
   "outputs": [
    {
     "name": "stdout",
     "output_type": "stream",
     "text": [
      "              precision    recall  f1-score   support\n",
      "\n",
      "           0       0.84      0.95      0.89      6982\n",
      "           1       0.69      0.37      0.48      2018\n",
      "\n",
      "    accuracy                           0.82      9000\n",
      "   macro avg       0.76      0.66      0.69      9000\n",
      "weighted avg       0.80      0.82      0.80      9000\n",
      "\n"
     ]
    }
   ],
   "source": [
    "print(classification_report(Y_test, y_predDT))"
   ]
  },
  {
   "cell_type": "code",
   "execution_count": 33,
   "metadata": {
    "colab": {
     "background_save": true
    },
    "id": "7CYzj-GNJ7AY",
    "outputId": "270c2128-9eb7-487f-9f39-e6f3f15f20e8"
   },
   "outputs": [
    {
     "name": "stdout",
     "output_type": "stream",
     "text": [
      "Accuracy score: 0.8204444444444444\n",
      "Precision score: 0.6854243542435424\n",
      "Recall score: 0.3681863230921705\n",
      "F1 score: 0.4790457769181174\n",
      "Misclassification score: 0.17955555555555558\n"
     ]
    }
   ],
   "source": [
    "print(\"Accuracy score: {}\".format(accuracy_score(Y_test,y_predDT)))\n",
    "print(\"Precision score: {}\".format(precision_score(Y_test,y_predDT)))\n",
    "print(\"Recall score: {}\".format(recall_score(Y_test,y_predDT)))\n",
    "print(\"F1 score: {}\".format(f1_score(Y_test,y_predDT)))\n",
    "print(\"Misclassification score: {}\".format((1-accuracy_score(Y_test,y_predDT))))"
   ]
  },
  {
   "cell_type": "markdown",
   "metadata": {
    "id": "i7DA-a4NkE9z"
   },
   "source": [
    "**KNN**"
   ]
  },
  {
   "cell_type": "code",
   "execution_count": 34,
   "metadata": {
    "colab": {
     "background_save": true
    },
    "id": "W7NNdtCWkJtY",
    "outputId": "72b3e928-1c91-4793-bec8-3f16097d5423"
   },
   "outputs": [
    {
     "data": {
      "text/plain": [
       "0.818952380952381"
      ]
     },
     "execution_count": 34,
     "metadata": {},
     "output_type": "execute_result"
    }
   ],
   "source": [
    "from sklearn.neighbors import KNeighborsClassifier\n",
    "model_knn=KNeighborsClassifier(n_neighbors=35)\n",
    "model_knn.fit(xtrain,Y_train)\n",
    "y_predknn=model_knn.predict(xtest)\n",
    "model_knn.score(xtrain,Y_train)"
   ]
  },
  {
   "cell_type": "code",
   "execution_count": 35,
   "metadata": {
    "colab": {
     "background_save": true
    },
    "id": "ACOp2UXX3uSx",
    "outputId": "59125455-cb1d-4a3f-bc3b-bfaed5d053f5"
   },
   "outputs": [
    {
     "data": {
      "text/plain": [
       "0.8131111111111111"
      ]
     },
     "execution_count": 35,
     "metadata": {},
     "output_type": "execute_result"
    }
   ],
   "source": [
    "model_knn.score(xtest,Y_test)"
   ]
  },
  {
   "cell_type": "code",
   "execution_count": 36,
   "metadata": {
    "colab": {
     "background_save": true
    },
    "id": "kahpAAqi33zP",
    "outputId": "d20e8f81-ea8b-4973-838d-a205bd060976"
   },
   "outputs": [
    {
     "data": {
      "text/plain": [
       "Text(0, 0.5, 'Error Rate')"
      ]
     },
     "execution_count": 36,
     "metadata": {},
     "output_type": "execute_result"
    },
    {
     "data": {
      "image/png": "[encoded data removed]",
      "text/plain": [
       "<Figure size 720x720 with 1 Axes>"
      ]
     },
     "metadata": {
      "needs_background": "light"
     },
     "output_type": "display_data"
    }
   ],
   "source": [
    "error_rate = []\n",
    "  \n",
    "for i in range(10,50):\n",
    "    knn_classifier = KNeighborsClassifier(n_neighbors = i)\n",
    "    knn_classifier.fit(xtrain, Y_train)\n",
    "    pred_i = knn_classifier.predict(xtest)\n",
    "    error_rate.append(np.mean(pred_i != Y_test))\n",
    "  \n",
    "plt.figure(figsize =(10, 10))\n",
    "plt.plot(range(10,50), error_rate, color ='blue',\n",
    "                linestyle ='dashed', marker ='o',\n",
    "         markerfacecolor ='red', markersize = 10)\n",
    "  \n",
    "plt.title('Error Rate vs. K Value')\n",
    "plt.xlabel('K')\n",
    "plt.ylabel('Error Rate')"
   ]
  },
  {
   "cell_type": "code",
   "execution_count": 37,
   "metadata": {
    "colab": {
     "background_save": true
    },
    "id": "AjlvCGj-k4O7",
    "outputId": "5adf464a-07a9-4fb7-fceb-2a521ac49ae8"
   },
   "outputs": [
    {
     "name": "stdout",
     "output_type": "stream",
     "text": [
      "              precision    recall  f1-score   support\n",
      "\n",
      "           0       0.83      0.96      0.89      6982\n",
      "           1       0.68      0.32      0.43      2018\n",
      "\n",
      "    accuracy                           0.81      9000\n",
      "   macro avg       0.75      0.64      0.66      9000\n",
      "weighted avg       0.79      0.81      0.79      9000\n",
      "\n"
     ]
    }
   ],
   "source": [
    "print(classification_report(Y_test, y_predknn))"
   ]
  },
  {
   "cell_type": "code",
   "execution_count": 38,
   "metadata": {
    "colab": {
     "background_save": true
    },
    "id": "2uYygax_KGAr",
    "outputId": "a097849c-bcf3-4517-cd02-354f1f34e8ab"
   },
   "outputs": [
    {
     "name": "stdout",
     "output_type": "stream",
     "text": [
      "Accuracy score: 0.8131111111111111\n",
      "Precision score: 0.675365344467641\n",
      "Recall score: 0.32061446977205155\n",
      "F1 score: 0.4348118279569893\n",
      "Misclassification score: 0.18688888888888888\n"
     ]
    }
   ],
   "source": [
    "print(\"Accuracy score: {}\".format(accuracy_score(Y_test,y_predknn)))\n",
    "print(\"Precision score: {}\".format(precision_score(Y_test,y_predknn)))\n",
    "print(\"Recall score: {}\".format(recall_score(Y_test,y_predknn)))\n",
    "print(\"F1 score: {}\".format(f1_score(Y_test,y_predknn)))\n",
    "print(\"Misclassification score: {}\".format((1-accuracy_score(Y_test,y_predknn))))"
   ]
  },
  {
   "cell_type": "code",
   "execution_count": 39,
   "metadata": {
    "colab": {
     "background_save": true
    },
    "id": "Qyh0yXwfmaHC",
    "outputId": "0a7a805d-79b2-498b-a39e-70ae114e2aa6"
   },
   "outputs": [
    {
     "data": {
      "image/png": "[encoded data removed]",
      "text/plain": [
       "<Figure size 432x288 with 1 Axes>"
      ]
     },
     "metadata": {
      "needs_background": "light"
     },
     "output_type": "display_data"
    }
   ],
   "source": [
    "import numpy as np\n",
    "\n",
    "ind = np.arange(4)\n",
    "width=0.15\n",
    "\n",
    "xvals = [0.68,0.37,0.48,0.82]\n",
    "bar1 = plt.bar( ind,xvals, width=width, color='g')\n",
    "\n",
    "yvals = [0.74,0.23,0.35,0.81]\n",
    "bar2 = plt.bar( ind+width,yvals, width=width, color = 'b')\n",
    "\n",
    "zvals = [0.70,0.29,0.41,0.81]\n",
    "bar3 = plt.bar( ind+width*2,zvals, width=width, color = 'r')\n",
    "\n",
    "uvals = [0.68,0.32,0.43,0.81]\n",
    "bar4 = plt.bar( ind+width*3,uvals, width=width, color = 'c')\n",
    "\n",
    "plt.xlabel(\"Techniques\")\n",
    "plt.ylabel('Scores')\n",
    "plt.title(\"Measurements of each Techniques used\")\n",
    "plt.xticks(ind+width,['Precision', 'Recall','F1 Score','Accuracy'])\n",
    "plt.legend((bar1, bar2, bar3, bar4), ('DecisionTree','LogisticRegression', 'RandomForest', 'KNN'), loc = \"upper left\" ,prop={'size':7.5})\n",
    "plt.margins(0.2)\n",
    "plt.show()"
   ]
  },
  {
   "cell_type": "markdown",
   "metadata": {
    "id": "xm__TLOLvaRa"
   },
   "source": [
    "**Oversampling and Undersampling Techniques**"
   ]
  },
  {
   "cell_type": "code",
   "execution_count": 40,
   "metadata": {
    "colab": {
     "background_save": true
    },
    "id": "fT0T9q7HjeS8",
    "outputId": "42e1b79c-8d6a-4091-ba2e-01242f065eb6"
   },
   "outputs": [
    {
     "name": "stdout",
     "output_type": "stream",
     "text": [
      "Requirement already up-to-date: imbalanced-learn in c:\\users\\archita biswas\\anaconda3\\lib\\site-packages (0.9.0)\n",
      "Requirement already satisfied, skipping upgrade: threadpoolctl>=2.0.0 in c:\\users\\archita biswas\\anaconda3\\lib\\site-packages (from imbalanced-learn) (2.1.0)\n",
      "Requirement already satisfied, skipping upgrade: scipy>=1.1.0 in c:\\users\\archita biswas\\anaconda3\\lib\\site-packages (from imbalanced-learn) (1.5.2)\n",
      "Requirement already satisfied, skipping upgrade: scikit-learn>=1.0.1 in c:\\users\\archita biswas\\anaconda3\\lib\\site-packages (from imbalanced-learn) (1.0.1)\n",
      "Requirement already satisfied, skipping upgrade: numpy>=1.14.6 in c:\\users\\archita biswas\\anaconda3\\lib\\site-packages (from imbalanced-learn) (1.19.2)\n",
      "Requirement already satisfied, skipping upgrade: joblib>=0.11 in c:\\users\\archita biswas\\anaconda3\\lib\\site-packages (from imbalanced-learn) (0.17.0)\n"
     ]
    }
   ],
   "source": [
    "!pip install -U imbalanced-learn"
   ]
  },
  {
   "cell_type": "markdown",
   "metadata": {
    "id": "pwf4aANWv5Yu"
   },
   "source": [
    "**Oversampling using SMOTE**"
   ]
  },
  {
   "cell_type": "code",
   "execution_count": 41,
   "metadata": {
    "colab": {
     "background_save": true
    },
    "id": "UF9vkyASvukp",
    "outputId": "56d0fc1c-1df6-40e7-ca7b-b731bda8b6ea"
   },
   "outputs": [
    {
     "name": "stdout",
     "output_type": "stream",
     "text": [
      "Before OverSampling, counts of label '1': 4618\n",
      "Before OverSampling, counts of label '0': 16382 \n",
      "\n",
      "After OverSampling, the shape of train_X: (32764, 23)\n",
      "After OverSampling, the shape of train_y: (32764,) \n",
      "\n",
      "After OverSampling, counts of label '1': 16382\n",
      "After OverSampling, counts of label '0': 16382\n"
     ]
    }
   ],
   "source": [
    "print(\"Before OverSampling, counts of label '1': {}\".format(sum(Y_train == 1)))\n",
    "print(\"Before OverSampling, counts of label '0': {} \\n\".format(sum(Y_train == 0)))\n",
    "\n",
    "from imblearn.over_sampling import SMOTE\n",
    "sm = SMOTE(random_state = 2)\n",
    "X_train_res, y_train_res = sm.fit_resample(X_train, Y_train)\n",
    " \n",
    "print('After OverSampling, the shape of train_X: {}'.format(X_train_res.shape))\n",
    "print('After OverSampling, the shape of train_y: {} \\n'.format(y_train_res.shape))\n",
    " \n",
    "print(\"After OverSampling, counts of label '1': {}\".format(sum(y_train_res == 1)))\n",
    "print(\"After OverSampling, counts of label '0': {}\".format(sum(y_train_res == 0)))"
   ]
  },
  {
   "cell_type": "code",
   "execution_count": 42,
   "metadata": {
    "colab": {
     "background_save": true
    },
    "id": "r2zWGXinUdY0"
   },
   "outputs": [],
   "source": [
    "sc = StandardScaler()\n",
    "xtrain_sc = sc.fit_transform(X_train_res) \n",
    "xtest_sc = sc.transform(X_test) "
   ]
  },
  {
   "cell_type": "markdown",
   "metadata": {
    "id": "pqvBd4Sx_wSA"
   },
   "source": [
    "**Fitting models on oversampled dataset**\n",
    "\n",
    "**Logistic Regression**\n"
   ]
  },
  {
   "cell_type": "code",
   "execution_count": 43,
   "metadata": {
    "colab": {
     "background_save": true
    },
    "id": "slcgf_rK_xxt",
    "outputId": "823bd28d-ea3e-47fc-bbdd-21ba2ed71493"
   },
   "outputs": [
    {
     "data": {
      "text/plain": [
       "0.6803333333333333"
      ]
     },
     "execution_count": 43,
     "metadata": {},
     "output_type": "execute_result"
    }
   ],
   "source": [
    "Model_LR1=LogisticRegression(C=3)\n",
    "Model_LR1.fit(xtrain_sc,y_train_res)\n",
    "Y_PredLR1=Model_LR1.predict(xtest_sc)\n",
    "Model_LR1.score(xtest_sc,Y_test)"
   ]
  },
  {
   "cell_type": "code",
   "execution_count": 44,
   "metadata": {
    "colab": {
     "background_save": true
    },
    "id": "g0iCIy0WAmxJ",
    "outputId": "b72cedfb-0c8b-4252-85e2-40c57ee40e0e"
   },
   "outputs": [
    {
     "name": "stdout",
     "output_type": "stream",
     "text": [
      "              precision    recall  f1-score   support\n",
      "\n",
      "           0       0.85      0.71      0.78      6982\n",
      "           1       0.36      0.57      0.45      2018\n",
      "\n",
      "    accuracy                           0.68      9000\n",
      "   macro avg       0.61      0.64      0.61      9000\n",
      "weighted avg       0.74      0.68      0.70      9000\n",
      "\n"
     ]
    }
   ],
   "source": [
    "print(classification_report(Y_test, Y_PredLR1))"
   ]
  },
  {
   "cell_type": "code",
   "execution_count": 45,
   "metadata": {
    "colab": {
     "background_save": true
    },
    "id": "F-8XnmQTWnui",
    "outputId": "a01b93bd-cb04-49b7-f6c7-dcb758b36ef7"
   },
   "outputs": [
    {
     "name": "stdout",
     "output_type": "stream",
     "text": [
      "Accuracy score: 0.6803333333333333\n",
      "Precision score: 0.36489462094998426\n",
      "Recall score: 0.574826560951437\n",
      "F1 score: 0.4464113911872234\n",
      "Misclassification score: 0.31966666666666665\n"
     ]
    }
   ],
   "source": [
    "print(\"Accuracy score: {}\".format(accuracy_score(Y_test,Y_PredLR1)))\n",
    "print(\"Precision score: {}\".format(precision_score(Y_test,Y_PredLR1)))\n",
    "print(\"Recall score: {}\".format(recall_score(Y_test,Y_PredLR1)))\n",
    "print(\"F1 score: {}\".format(f1_score(Y_test,Y_PredLR1)))\n",
    "print(\"Misclassification score: {}\".format((1-accuracy_score(Y_test,Y_PredLR1))))"
   ]
  },
  {
   "cell_type": "markdown",
   "metadata": {
    "id": "P-3mnp2rwH8x"
   },
   "source": [
    "\n",
    "**RandomForest Classifier**"
   ]
  },
  {
   "cell_type": "code",
   "execution_count": 46,
   "metadata": {
    "colab": {
     "background_save": true
    },
    "id": "DAib3Ld0wDs3",
    "outputId": "173b4086-247b-48e9-e393-2d856b30d716"
   },
   "outputs": [
    {
     "name": "stdout",
     "output_type": "stream",
     "text": [
      "              precision    recall  f1-score   support\n",
      "\n",
      "           0       0.87      0.83      0.85      6982\n",
      "           1       0.49      0.57      0.53      2018\n",
      "\n",
      "    accuracy                           0.77      9000\n",
      "   macro avg       0.68      0.70      0.69      9000\n",
      "weighted avg       0.79      0.77      0.78      9000\n",
      "\n"
     ]
    }
   ],
   "source": [
    "model_rf1=RandomForestClassifier(n_estimators=500,max_depth=5)\n",
    "model_rf1.fit(xtrain_sc,y_train_res)\n",
    "y_pred1=model_rf1.predict(xtest_sc)\n",
    "print(classification_report(Y_test, y_pred1))"
   ]
  },
  {
   "cell_type": "code",
   "execution_count": 47,
   "metadata": {
    "colab": {
     "background_save": true
    },
    "id": "w3HmiHT1Wwg_",
    "outputId": "315d0d38-979d-439d-a4b2-4dcd46544160"
   },
   "outputs": [
    {
     "name": "stdout",
     "output_type": "stream",
     "text": [
      "Accuracy score: 0.773\n",
      "Precision score: 0.4946004319654428\n",
      "Recall score: 0.5673934588701685\n",
      "F1 score: 0.5285021924763443\n",
      "Misclassification score: 0.22699999999999998\n"
     ]
    }
   ],
   "source": [
    "print(\"Accuracy score: {}\".format(accuracy_score(Y_test,y_pred1)))\n",
    "print(\"Precision score: {}\".format(precision_score(Y_test,y_pred1)))\n",
    "print(\"Recall score: {}\".format(recall_score(Y_test,y_pred1)))\n",
    "print(\"F1 score: {}\".format(f1_score(Y_test,y_pred1)))\n",
    "print(\"Misclassification score: {}\".format((1-accuracy_score(Y_test,y_pred1))))"
   ]
  },
  {
   "cell_type": "markdown",
   "metadata": {
    "id": "prOz4VCPwmV6"
   },
   "source": [
    "**DecisionTree Classifier**"
   ]
  },
  {
   "cell_type": "code",
   "execution_count": 48,
   "metadata": {
    "colab": {
     "background_save": true
    },
    "id": "-RR4xQ9fwvtH",
    "outputId": "3ca01d99-7b9e-4580-e91b-27e86e8bed50"
   },
   "outputs": [
    {
     "name": "stdout",
     "output_type": "stream",
     "text": [
      "              precision    recall  f1-score   support\n",
      "\n",
      "           0       0.86      0.77      0.81      6982\n",
      "           1       0.42      0.57      0.48      2018\n",
      "\n",
      "    accuracy                           0.73      9000\n",
      "   macro avg       0.64      0.67      0.65      9000\n",
      "weighted avg       0.76      0.73      0.74      9000\n",
      "\n"
     ]
    }
   ],
   "source": [
    "modelDT1=DecisionTreeClassifier(max_depth=5)\n",
    "modelDT1.fit(xtrain_sc,y_train_res)\n",
    "y_predDT1=modelDT1.predict(xtest_sc)\n",
    "print(classification_report(Y_test, y_predDT1))"
   ]
  },
  {
   "cell_type": "code",
   "execution_count": 49,
   "metadata": {
    "colab": {
     "background_save": true
    },
    "id": "Xjyh_lIyXG4A",
    "outputId": "172b6ba5-58e5-4982-9d2c-b301cf2a27a0"
   },
   "outputs": [
    {
     "name": "stdout",
     "output_type": "stream",
     "text": [
      "Accuracy score: 0.7271111111111112\n",
      "Precision score: 0.4195444526083762\n",
      "Recall score: 0.5659068384539148\n",
      "F1 score: 0.48185654008438816\n",
      "Misclassification score: 0.27288888888888885\n"
     ]
    }
   ],
   "source": [
    "print(\"Accuracy score: {}\".format(accuracy_score(Y_test,y_predDT1)))\n",
    "print(\"Precision score: {}\".format(precision_score(Y_test,y_predDT1)))\n",
    "print(\"Recall score: {}\".format(recall_score(Y_test,y_predDT1)))\n",
    "print(\"F1 score: {}\".format(f1_score(Y_test,y_predDT1)))\n",
    "print(\"Misclassification score: {}\".format((1-accuracy_score(Y_test,y_predDT1))))"
   ]
  },
  {
   "cell_type": "markdown",
   "metadata": {
    "id": "J-xpWq_9RTrW"
   },
   "source": [
    "**KNN**"
   ]
  },
  {
   "cell_type": "code",
   "execution_count": 50,
   "metadata": {
    "colab": {
     "background_save": true
    },
    "id": "80_IKtYkRVdL",
    "outputId": "74b73a3f-21c6-4894-dd80-f33b7a08d892"
   },
   "outputs": [
    {
     "data": {
      "text/plain": [
       "0.5907093151019411"
      ]
     },
     "execution_count": 50,
     "metadata": {},
     "output_type": "execute_result"
    }
   ],
   "source": [
    "model_knn1=KNeighborsClassifier(n_neighbors=10)\n",
    "model_knn1.fit(xtrain_sc,y_train_res)\n",
    "y_predknn1=model_knn1.predict(xtest_sc)\n",
    "model_knn.score(xtrain_sc,y_train_res)"
   ]
  },
  {
   "cell_type": "code",
   "execution_count": 51,
   "metadata": {
    "colab": {
     "background_save": true
    },
    "id": "x9pLbABCSGSA",
    "outputId": "b9676679-fdea-414e-b69e-44d079d81ee8"
   },
   "outputs": [
    {
     "data": {
      "text/plain": [
       "Text(0, 0.5, 'Error Rate')"
      ]
     },
     "execution_count": 51,
     "metadata": {},
     "output_type": "execute_result"
    },
    {
     "data": {
      "image/png": "[encoded data removed]",
      "text/plain": [
       "<Figure size 720x720 with 1 Axes>"
      ]
     },
     "metadata": {
      "needs_background": "light"
     },
     "output_type": "display_data"
    }
   ],
   "source": [
    "error_rate1 = []\n",
    "  \n",
    "for i in range(10,50):\n",
    "    knn_classifier1 = KNeighborsClassifier(n_neighbors = i)\n",
    "    knn_classifier1.fit(xtrain_sc,y_train_res)\n",
    "    pred_i1 = knn_classifier1.predict(xtest_sc)\n",
    "    error_rate1.append(np.mean(pred_i1 != Y_test))\n",
    "  \n",
    "plt.figure(figsize =(10, 10))\n",
    "plt.plot(range(10,50), error_rate1, color ='blue',\n",
    "                linestyle ='dashed', marker ='o',\n",
    "         markerfacecolor ='red', markersize = 10)\n",
    "  \n",
    "plt.title('Error Rate vs. K Value')\n",
    "plt.xlabel('K')\n",
    "plt.ylabel('Error Rate')"
   ]
  },
  {
   "cell_type": "code",
   "execution_count": 52,
   "metadata": {
    "colab": {
     "background_save": true
    },
    "id": "5ya3NS6cp45U",
    "outputId": "114d7504-6b11-42de-8908-c01163dbca14"
   },
   "outputs": [
    {
     "name": "stdout",
     "output_type": "stream",
     "text": [
      "Accuracy score: 0.7305555555555555\n",
      "Precision score: 0.4192780642602142\n",
      "Recall score: 0.5237859266600595\n",
      "F1 score: 0.46574135272086364\n",
      "Misclassification score: 0.2694444444444445\n"
     ]
    }
   ],
   "source": [
    "print(\"Accuracy score: {}\".format(accuracy_score(Y_test,y_predknn1)))\n",
    "print(\"Precision score: {}\".format(precision_score(Y_test,y_predknn1)))\n",
    "print(\"Recall score: {}\".format(recall_score(Y_test,y_predknn1)))\n",
    "print(\"F1 score: {}\".format(f1_score(Y_test,y_predknn1)))\n",
    "print(\"Misclassification score: {}\".format((1-accuracy_score(Y_test,y_predknn1))))"
   ]
  },
  {
   "cell_type": "markdown",
   "metadata": {
    "id": "SzuIysepOtrZ"
   },
   "source": [
    "**Random Oversampling**"
   ]
  },
  {
   "cell_type": "code",
   "execution_count": 53,
   "metadata": {
    "colab": {
     "background_save": true
    },
    "id": "NDySwHmyOyCY",
    "outputId": "1c6dd5a7-5fb0-4e48-fe46-c7d8e62063bc"
   },
   "outputs": [
    {
     "name": "stdout",
     "output_type": "stream",
     "text": [
      "After oversampling, the shape of train_X: (32764, 23)\n",
      "After oversampling, the shape of train_y: (32764,) \n",
      "\n",
      "After oversampling, counts of label '1': 16382\n",
      "After oversampling, counts of label '0': 16382\n"
     ]
    }
   ],
   "source": [
    "from imblearn.over_sampling import RandomOverSampler\n",
    "ros = RandomOverSampler(random_state=0)\n",
    "X_resampled, y_resampled = ros.fit_resample(X_train, Y_train)\n",
    "print('After oversampling, the shape of train_X: {}'.format(X_resampled.shape))\n",
    "print('After oversampling, the shape of train_y: {} \\n'.format(y_resampled.shape))\n",
    " \n",
    "print(\"After oversampling, counts of label '1': {}\".format(sum(y_resampled == 1)))\n",
    "print(\"After oversampling, counts of label '0': {}\".format(sum(y_resampled == 0)))"
   ]
  },
  {
   "cell_type": "code",
   "execution_count": 54,
   "metadata": {
    "colab": {
     "background_save": true
    },
    "id": "9RHGKd19qOgP"
   },
   "outputs": [],
   "source": [
    "sc1 = StandardScaler()\n",
    "xtrain1 = sc1.fit_transform(X_resampled) \n",
    "xtest1 = sc1.transform(X_test) "
   ]
  },
  {
   "cell_type": "markdown",
   "metadata": {
    "id": "WZRYQHfE7xIB"
   },
   "source": [
    "**Logistic Regression**"
   ]
  },
  {
   "cell_type": "code",
   "execution_count": 55,
   "metadata": {
    "colab": {
     "background_save": true
    },
    "id": "uc9ITU-O707e",
    "outputId": "6066e5ee-1ca9-4162-cdf9-9f07ebe8e4c3"
   },
   "outputs": [
    {
     "data": {
      "text/plain": [
       "0.683"
      ]
     },
     "execution_count": 55,
     "metadata": {},
     "output_type": "execute_result"
    }
   ],
   "source": [
    "Model_LR2=LogisticRegression(max_iter=700,C=3)\n",
    "Model_LR2.fit(xtrain1,y_resampled)\n",
    "Y_PredLR2=Model_LR2.predict(xtest1)\n",
    "Model_LR2.score(xtest1,Y_test)"
   ]
  },
  {
   "cell_type": "code",
   "execution_count": 56,
   "metadata": {
    "colab": {
     "background_save": true
    },
    "id": "ELcvgzN78bnk",
    "outputId": "d700c0ee-b446-4473-e834-24edb8f20a7c"
   },
   "outputs": [
    {
     "name": "stdout",
     "output_type": "stream",
     "text": [
      "              precision    recall  f1-score   support\n",
      "\n",
      "           0       0.87      0.70      0.77      6982\n",
      "           1       0.38      0.64      0.47      2018\n",
      "\n",
      "    accuracy                           0.68      9000\n",
      "   macro avg       0.62      0.67      0.62      9000\n",
      "weighted avg       0.76      0.68      0.71      9000\n",
      "\n"
     ]
    }
   ],
   "source": [
    "print(classification_report(Y_test, Y_PredLR2))"
   ]
  },
  {
   "cell_type": "code",
   "execution_count": 57,
   "metadata": {
    "colab": {
     "background_save": true
    },
    "id": "GusZjdmB85sr",
    "outputId": "1764c6b5-2ba8-4fd7-81a2-830774ea28e5"
   },
   "outputs": [
    {
     "name": "stdout",
     "output_type": "stream",
     "text": [
      "Accuracy score: 0.683\n",
      "Precision score: 0.3771697558105325\n",
      "Recall score: 0.6352824578790882\n",
      "F1 score: 0.47332471847886287\n",
      "Misclassification score: 0.31699999999999995\n"
     ]
    }
   ],
   "source": [
    "print(\"Accuracy score: {}\".format(accuracy_score(Y_test,Y_PredLR2)))\n",
    "print(\"Precision score: {}\".format(precision_score(Y_test,Y_PredLR2)))\n",
    "print(\"Recall score: {}\".format(recall_score(Y_test,Y_PredLR2)))\n",
    "print(\"F1 score: {}\".format(f1_score(Y_test,Y_PredLR2)))\n",
    "print(\"Misclassification score: {}\".format((1-accuracy_score(Y_test,Y_PredLR2))))"
   ]
  },
  {
   "cell_type": "markdown",
   "metadata": {
    "id": "UqgSgKubPhqF"
   },
   "source": [
    "**Decision Tree**"
   ]
  },
  {
   "cell_type": "code",
   "execution_count": 58,
   "metadata": {
    "colab": {
     "background_save": true
    },
    "id": "UmZmuDQ3PlOG",
    "outputId": "472a6156-82fc-4614-846f-7cbc3210848e"
   },
   "outputs": [
    {
     "name": "stdout",
     "output_type": "stream",
     "text": [
      "              precision    recall  f1-score   support\n",
      "\n",
      "           0       0.87      0.84      0.86      6982\n",
      "           1       0.51      0.57      0.54      2018\n",
      "\n",
      "    accuracy                           0.78      9000\n",
      "   macro avg       0.69      0.70      0.70      9000\n",
      "weighted avg       0.79      0.78      0.78      9000\n",
      "\n"
     ]
    }
   ],
   "source": [
    "modelDT2=DecisionTreeClassifier(max_depth=5)\n",
    "modelDT2.fit(xtrain1,y_resampled)\n",
    "y_predDT2=modelDT2.predict(xtest1)\n",
    "print(classification_report(Y_test, y_predDT2))"
   ]
  },
  {
   "cell_type": "code",
   "execution_count": 59,
   "metadata": {
    "colab": {
     "background_save": true
    },
    "id": "7rrcSoPuq4z_",
    "outputId": "6eb70db5-13f3-43ce-8caf-881bd28b7abf"
   },
   "outputs": [
    {
     "name": "stdout",
     "output_type": "stream",
     "text": [
      "Accuracy score: 0.7796666666666666\n",
      "Precision score: 0.5077399380804953\n",
      "Recall score: 0.5688800792864221\n",
      "F1 score: 0.5365739658798785\n",
      "Misclassification score: 0.22033333333333338\n"
     ]
    }
   ],
   "source": [
    "print(\"Accuracy score: {}\".format(accuracy_score(Y_test,y_predDT2)))\n",
    "print(\"Precision score: {}\".format(precision_score(Y_test,y_predDT2)))\n",
    "print(\"Recall score: {}\".format(recall_score(Y_test,y_predDT2)))\n",
    "print(\"F1 score: {}\".format(f1_score(Y_test,y_predDT2)))\n",
    "print(\"Misclassification score: {}\".format((1-accuracy_score(Y_test,y_predDT2))))"
   ]
  },
  {
   "cell_type": "markdown",
   "metadata": {
    "id": "UDpbfTaaQFse"
   },
   "source": [
    "**Random Forest**"
   ]
  },
  {
   "cell_type": "code",
   "execution_count": 60,
   "metadata": {
    "colab": {
     "background_save": true
    },
    "id": "OVqR9UoGQEm4",
    "outputId": "d08b194f-1adc-4d45-a30b-3734f3cd0869"
   },
   "outputs": [
    {
     "name": "stdout",
     "output_type": "stream",
     "text": [
      "              precision    recall  f1-score   support\n",
      "\n",
      "           0       0.88      0.83      0.85      6982\n",
      "           1       0.51      0.60      0.55      2018\n",
      "\n",
      "    accuracy                           0.78      9000\n",
      "   macro avg       0.69      0.72      0.70      9000\n",
      "weighted avg       0.80      0.78      0.79      9000\n",
      "\n"
     ]
    }
   ],
   "source": [
    "model_rf2=RandomForestClassifier(n_estimators=500,max_depth=5)\n",
    "model_rf2.fit(xtrain1,y_resampled)\n",
    "y_predrf2=model_rf2.predict(xtest1)\n",
    "print(classification_report(Y_test, y_predrf2))"
   ]
  },
  {
   "cell_type": "code",
   "execution_count": 61,
   "metadata": {
    "colab": {
     "background_save": true
    },
    "id": "JSHlyRw8rhTu",
    "outputId": "4af9ca36-066d-411f-d317-e2bd65fa526f"
   },
   "outputs": [
    {
     "name": "stdout",
     "output_type": "stream",
     "text": [
      "Accuracy score: 0.7801111111111111\n",
      "Precision score: 0.5081761006289308\n",
      "Recall score: 0.6005946481665014\n",
      "F1 score: 0.5505337270043152\n",
      "Misclassification score: 0.2198888888888889\n"
     ]
    }
   ],
   "source": [
    "print(\"Accuracy score: {}\".format(accuracy_score(Y_test,y_predrf2)))\n",
    "print(\"Precision score: {}\".format(precision_score(Y_test,y_predrf2)))\n",
    "print(\"Recall score: {}\".format(recall_score(Y_test,y_predrf2)))\n",
    "print(\"F1 score: {}\".format(f1_score(Y_test,y_predrf2)))\n",
    "print(\"Misclassification score: {}\".format((1-accuracy_score(Y_test,y_predrf2))))"
   ]
  },
  {
   "cell_type": "markdown",
   "metadata": {
    "id": "jrDFnjFyRyV-"
   },
   "source": [
    "**KNN**"
   ]
  },
  {
   "cell_type": "code",
   "execution_count": 62,
   "metadata": {
    "colab": {
     "background_save": true
    },
    "id": "Jc2JCHUuR0Su",
    "outputId": "ac5a7561-a69e-4876-fc4b-9be9f08bc4ce"
   },
   "outputs": [
    {
     "name": "stdout",
     "output_type": "stream",
     "text": [
      "              precision    recall  f1-score   support\n",
      "\n",
      "           0       0.87      0.81      0.84      6982\n",
      "           1       0.47      0.57      0.51      2018\n",
      "\n",
      "    accuracy                           0.76      9000\n",
      "   macro avg       0.67      0.69      0.68      9000\n",
      "weighted avg       0.78      0.76      0.77      9000\n",
      "\n"
     ]
    }
   ],
   "source": [
    "model_knn2=KNeighborsClassifier(n_neighbors=80)\n",
    "model_knn2.fit(xtrain1,y_resampled)\n",
    "y_predknn2=model_knn2.predict(xtest1)\n",
    "print(classification_report(Y_test,y_predknn2))"
   ]
  },
  {
   "cell_type": "code",
   "execution_count": 63,
   "metadata": {
    "colab": {
     "background_save": true
    },
    "id": "vHqvTox2sNf9",
    "outputId": "835afd80-5920-40a5-ce0a-7145952e30d0"
   },
   "outputs": [
    {
     "data": {
      "text/plain": [
       "Text(0, 0.5, 'Error Rate')"
      ]
     },
     "execution_count": 63,
     "metadata": {},
     "output_type": "execute_result"
    },
    {
     "data": {
      "image/png": "[encoded data removed]",
      "text/plain": [
       "<Figure size 720x720 with 1 Axes>"
      ]
     },
     "metadata": {
      "needs_background": "light"
     },
     "output_type": "display_data"
    }
   ],
   "source": [
    "error_rate2 = []\n",
    "  \n",
    "for i in range(30,100):\n",
    "    knn_classifier2 = KNeighborsClassifier(n_neighbors = i)\n",
    "    knn_classifier2.fit(xtrain1,y_resampled)\n",
    "    pred_i2 = knn_classifier2.predict(xtest1)\n",
    "    error_rate2.append(np.mean(pred_i2 != Y_test))\n",
    "  \n",
    "plt.figure(figsize =(10, 10))\n",
    "plt.plot(range(30,100), error_rate2, color ='blue',\n",
    "                linestyle ='dashed', marker ='o',\n",
    "         markerfacecolor ='red', markersize = 10)\n",
    "  \n",
    "plt.title('Error Rate vs. K Value')\n",
    "plt.xlabel('K')\n",
    "plt.ylabel('Error Rate')"
   ]
  },
  {
   "cell_type": "code",
   "execution_count": 64,
   "metadata": {
    "colab": {
     "background_save": true
    },
    "id": "C4cWH1Tdy6sn",
    "outputId": "3b3e789e-61b8-427a-a298-8a54c9285e2b"
   },
   "outputs": [
    {
     "name": "stdout",
     "output_type": "stream",
     "text": [
      "Accuracy score: 0.7582222222222222\n",
      "Precision score: 0.4678861788617886\n",
      "Recall score: 0.570366699702676\n",
      "F1 score: 0.5140687807056721\n",
      "Misclassification score: 0.24177777777777776\n"
     ]
    }
   ],
   "source": [
    "print(\"Accuracy score: {}\".format(accuracy_score(Y_test,y_predknn2)))\n",
    "print(\"Precision score: {}\".format(precision_score(Y_test,y_predknn2)))\n",
    "print(\"Recall score: {}\".format(recall_score(Y_test,y_predknn2)))\n",
    "print(\"F1 score: {}\".format(f1_score(Y_test,y_predknn2)))\n",
    "print(\"Misclassification score: {}\".format((1-accuracy_score(Y_test,y_predknn2))))"
   ]
  },
  {
   "cell_type": "code",
   "execution_count": 65,
   "metadata": {
    "colab": {
     "background_save": true
    },
    "id": "BpXNyo7O7ETl",
    "outputId": "ef4d87aa-ec22-4676-9169-dfd7a83529e0"
   },
   "outputs": [
    {
     "data": {
      "image/png": "[encoded data removed]",
      "text/plain": [
       "<Figure size 432x288 with 1 Axes>"
      ]
     },
     "metadata": {
      "needs_background": "light"
     },
     "output_type": "display_data"
    }
   ],
   "source": [
    "ind = np.arange(4)\n",
    "width=0.15\n",
    "\n",
    "xvals = [0.51,0.57,0.54,0.78]\n",
    "bar1 = plt.bar( ind,xvals, width=width, color='g')\n",
    "\n",
    "yvals = [0.38,0.64,0.47,0.68]\n",
    "bar2 = plt.bar( ind+width,yvals, width=width, color = 'b')\n",
    "\n",
    "zvals = [0.51,0.60,0.55,0.78]\n",
    "bar3 = plt.bar( ind+width*2,zvals, width=width, color = 'r')\n",
    "\n",
    "uvals = [0.47,0.57,0.51,0.76]\n",
    "bar4 = plt.bar( ind+width*3,uvals, width=width, color = 'c')\n",
    "\n",
    "plt.xlabel(\"Techniques\")\n",
    "plt.ylabel('Scores')\n",
    "plt.title(\"Measurements of each Techniques used\")\n",
    "plt.xticks(ind+width,['Precision', 'Recall','F1 Score','Accuracy'])\n",
    "plt.legend((bar1, bar2, bar3, bar4), ('DecisionTree','LogisticRegression', 'RandomForest', 'KNN'), loc = \"upper left\" ,prop={'size':7.5})\n",
    "plt.margins(0.2)\n",
    "plt.show()"
   ]
  },
  {
   "cell_type": "markdown",
   "metadata": {
    "id": "MKDUSdI6xO8b"
   },
   "source": [
    "**Undersampling**"
   ]
  },
  {
   "cell_type": "code",
   "execution_count": 66,
   "metadata": {
    "colab": {
     "background_save": true
    },
    "id": "9NWt5ZhnxJKR",
    "outputId": "ae0db0d5-7af2-4921-c730-c48a71f325fc"
   },
   "outputs": [
    {
     "name": "stdout",
     "output_type": "stream",
     "text": [
      "After Undersampling, the shape of train_X: (9236, 23)\n",
      "After Undersampling, the shape of train_y: (9236,) \n",
      "\n",
      "After Undersampling, counts of label '1': 4618\n",
      "After Undersampling, counts of label '0': 4618\n"
     ]
    }
   ],
   "source": [
    "from imblearn.under_sampling import NearMiss\n",
    "nr = NearMiss()\n",
    " \n",
    "X_train_miss, y_train_miss = nr.fit_resample(X_train, Y_train.ravel())\n",
    " \n",
    "print('After Undersampling, the shape of train_X: {}'.format(X_train_miss.shape))\n",
    "print('After Undersampling, the shape of train_y: {} \\n'.format(y_train_miss.shape))\n",
    " \n",
    "print(\"After Undersampling, counts of label '1': {}\".format(sum(y_train_miss == 1)))\n",
    "print(\"After Undersampling, counts of label '0': {}\".format(sum(y_train_miss == 0)))"
   ]
  },
  {
   "cell_type": "markdown",
   "metadata": {
    "id": "LIB2UBSaxZ4P"
   },
   "source": [
    "**Fitting models on undersampled dataset**\n",
    "\n",
    "**RandomForest Classifier**"
   ]
  },
  {
   "cell_type": "code",
   "execution_count": 67,
   "metadata": {
    "colab": {
     "background_save": true
    },
    "id": "q8qiJAOkxdxc",
    "outputId": "58949888-6c40-461d-f2a4-c6873a7aa6cc"
   },
   "outputs": [
    {
     "name": "stdout",
     "output_type": "stream",
     "text": [
      "              precision    recall  f1-score   support\n",
      "\n",
      "           0       0.83      0.96      0.89      6982\n",
      "           1       0.71      0.33      0.45      2018\n",
      "\n",
      "    accuracy                           0.82      9000\n",
      "   macro avg       0.77      0.64      0.67      9000\n",
      "weighted avg       0.80      0.82      0.79      9000\n",
      "\n"
     ]
    },
    {
     "name": "stderr",
     "output_type": "stream",
     "text": [
      "C:\\Users\\Archita Biswas\\anaconda3\\lib\\site-packages\\sklearn\\base.py:445: UserWarning: X does not have valid feature names, but RandomForestClassifier was fitted with feature names\n",
      "  warnings.warn(\n"
     ]
    }
   ],
   "source": [
    "model_rf2=RandomForestClassifier(n_estimators=300,max_depth=5)\n",
    "model_rf2.fit(X_train_miss,y_train_miss.ravel())\n",
    "y_pred2=model_rf2.predict(xtest)\n",
    "print(classification_report(Y_test, y_pred2))"
   ]
  },
  {
   "cell_type": "markdown",
   "metadata": {
    "id": "j1oAUFFcyTA7"
   },
   "source": [
    "**DecisionTree Classifier**"
   ]
  },
  {
   "cell_type": "code",
   "execution_count": 68,
   "metadata": {
    "colab": {
     "background_save": true
    },
    "id": "PYhaPokiyXKn",
    "outputId": "9bfc8698-6fad-4ef8-8055-6302ea0b2d18"
   },
   "outputs": [
    {
     "name": "stdout",
     "output_type": "stream",
     "text": [
      "              precision    recall  f1-score   support\n",
      "\n",
      "           0       0.85      0.91      0.88      6982\n",
      "           1       0.59      0.45      0.51      2018\n",
      "\n",
      "    accuracy                           0.81      9000\n",
      "   macro avg       0.72      0.68      0.70      9000\n",
      "weighted avg       0.79      0.81      0.80      9000\n",
      "\n"
     ]
    },
    {
     "name": "stderr",
     "output_type": "stream",
     "text": [
      "C:\\Users\\Archita Biswas\\anaconda3\\lib\\site-packages\\sklearn\\base.py:445: UserWarning: X does not have valid feature names, but DecisionTreeClassifier was fitted with feature names\n",
      "  warnings.warn(\n"
     ]
    }
   ],
   "source": [
    "modelDT3=DecisionTreeClassifier(max_depth=4,random_state=3)\n",
    "modelDT3.fit(X_train_miss,y_train_miss.ravel())\n",
    "y_predDT3=modelDT3.predict(xtest)\n",
    "print(classification_report(Y_test, y_predDT3))"
   ]
  },
  {
   "cell_type": "markdown",
   "metadata": {
    "id": "KkbnRvIOy7Sn"
   },
   "source": [
    "**Checking for multicollinearity**"
   ]
  },
  {
   "cell_type": "code",
   "execution_count": 69,
   "metadata": {
    "colab": {
     "background_save": true
    },
    "id": "rA-s4r_SzAsA",
    "outputId": "10691e6f-a836-4af6-b00e-8b037bcde1d5"
   },
   "outputs": [
    {
     "data": {
      "text/html": [
       "<div>\n",
       "<style scoped>\n",
       "    .dataframe tbody tr th:only-of-type {\n",
       "        vertical-align: middle;\n",
       "    }\n",
       "\n",
       "    .dataframe tbody tr th {\n",
       "        vertical-align: top;\n",
       "    }\n",
       "\n",
       "    .dataframe thead th {\n",
       "        text-align: right;\n",
       "    }\n",
       "</style>\n",
       "<table border=\"1\" class=\"dataframe\">\n",
       "  <thead>\n",
       "    <tr style=\"text-align: right;\">\n",
       "      <th></th>\n",
       "      <th>VIF</th>\n",
       "      <th>features</th>\n",
       "    </tr>\n",
       "  </thead>\n",
       "  <tbody>\n",
       "    <tr>\n",
       "      <th>0</th>\n",
       "      <td>4.037479</td>\n",
       "      <td>X1</td>\n",
       "    </tr>\n",
       "    <tr>\n",
       "      <th>1</th>\n",
       "      <td>9.092210</td>\n",
       "      <td>X2</td>\n",
       "    </tr>\n",
       "    <tr>\n",
       "      <th>2</th>\n",
       "      <td>6.731119</td>\n",
       "      <td>X3</td>\n",
       "    </tr>\n",
       "    <tr>\n",
       "      <th>3</th>\n",
       "      <td>6.265388</td>\n",
       "      <td>X4</td>\n",
       "    </tr>\n",
       "    <tr>\n",
       "      <th>4</th>\n",
       "      <td>10.857679</td>\n",
       "      <td>X5</td>\n",
       "    </tr>\n",
       "    <tr>\n",
       "      <th>5</th>\n",
       "      <td>1.918276</td>\n",
       "      <td>X6</td>\n",
       "    </tr>\n",
       "    <tr>\n",
       "      <th>6</th>\n",
       "      <td>3.211217</td>\n",
       "      <td>X7</td>\n",
       "    </tr>\n",
       "    <tr>\n",
       "      <th>7</th>\n",
       "      <td>3.727427</td>\n",
       "      <td>X8</td>\n",
       "    </tr>\n",
       "    <tr>\n",
       "      <th>8</th>\n",
       "      <td>4.440120</td>\n",
       "      <td>X9</td>\n",
       "    </tr>\n",
       "    <tr>\n",
       "      <th>9</th>\n",
       "      <td>4.985856</td>\n",
       "      <td>X10</td>\n",
       "    </tr>\n",
       "    <tr>\n",
       "      <th>10</th>\n",
       "      <td>3.463800</td>\n",
       "      <td>X11</td>\n",
       "    </tr>\n",
       "    <tr>\n",
       "      <th>11</th>\n",
       "      <td>20.823400</td>\n",
       "      <td>X12</td>\n",
       "    </tr>\n",
       "    <tr>\n",
       "      <th>12</th>\n",
       "      <td>38.214225</td>\n",
       "      <td>X13</td>\n",
       "    </tr>\n",
       "    <tr>\n",
       "      <th>13</th>\n",
       "      <td>31.783029</td>\n",
       "      <td>X14</td>\n",
       "    </tr>\n",
       "    <tr>\n",
       "      <th>14</th>\n",
       "      <td>29.548135</td>\n",
       "      <td>X15</td>\n",
       "    </tr>\n",
       "    <tr>\n",
       "      <th>15</th>\n",
       "      <td>35.986369</td>\n",
       "      <td>X16</td>\n",
       "    </tr>\n",
       "    <tr>\n",
       "      <th>16</th>\n",
       "      <td>21.426076</td>\n",
       "      <td>X17</td>\n",
       "    </tr>\n",
       "    <tr>\n",
       "      <th>17</th>\n",
       "      <td>1.907500</td>\n",
       "      <td>X18</td>\n",
       "    </tr>\n",
       "    <tr>\n",
       "      <th>18</th>\n",
       "      <td>2.384860</td>\n",
       "      <td>X19</td>\n",
       "    </tr>\n",
       "    <tr>\n",
       "      <th>19</th>\n",
       "      <td>1.911689</td>\n",
       "      <td>X20</td>\n",
       "    </tr>\n",
       "    <tr>\n",
       "      <th>20</th>\n",
       "      <td>1.805048</td>\n",
       "      <td>X21</td>\n",
       "    </tr>\n",
       "    <tr>\n",
       "      <th>21</th>\n",
       "      <td>1.854229</td>\n",
       "      <td>X22</td>\n",
       "    </tr>\n",
       "    <tr>\n",
       "      <th>22</th>\n",
       "      <td>1.270665</td>\n",
       "      <td>X23</td>\n",
       "    </tr>\n",
       "  </tbody>\n",
       "</table>\n",
       "</div>"
      ],
      "text/plain": [
       "          VIF features\n",
       "0    4.037479       X1\n",
       "1    9.092210       X2\n",
       "2    6.731119       X3\n",
       "3    6.265388       X4\n",
       "4   10.857679       X5\n",
       "5    1.918276       X6\n",
       "6    3.211217       X7\n",
       "7    3.727427       X8\n",
       "8    4.440120       X9\n",
       "9    4.985856      X10\n",
       "10   3.463800      X11\n",
       "11  20.823400      X12\n",
       "12  38.214225      X13\n",
       "13  31.783029      X14\n",
       "14  29.548135      X15\n",
       "15  35.986369      X16\n",
       "16  21.426076      X17\n",
       "17   1.907500      X18\n",
       "18   2.384860      X19\n",
       "19   1.911689      X20\n",
       "20   1.805048      X21\n",
       "21   1.854229      X22\n",
       "22   1.270665      X23"
      ]
     },
     "execution_count": 69,
     "metadata": {},
     "output_type": "execute_result"
    }
   ],
   "source": [
    "from statsmodels.stats.outliers_influence import variance_inflation_factor\n",
    "vif=pd.DataFrame()\n",
    "vif[\"VIF\"]=[variance_inflation_factor(X.values,i) for i in range(len(X.columns))]\n",
    "vif[\"features\"]=X.columns\n",
    "vif"
   ]
  },
  {
   "cell_type": "markdown",
   "metadata": {
    "id": "7U2NWGuZz0LH"
   },
   "source": [
    "**Deleting covariates for which VIF>10 and then fitting model**"
   ]
  },
  {
   "cell_type": "code",
   "execution_count": 70,
   "metadata": {
    "colab": {
     "background_save": true
    },
    "id": "CKmSzU58zLlI",
    "outputId": "1935c9df-43e5-4d59-d9e2-753522f5102c"
   },
   "outputs": [
    {
     "data": {
      "text/html": [
       "<div>\n",
       "<style scoped>\n",
       "    .dataframe tbody tr th:only-of-type {\n",
       "        vertical-align: middle;\n",
       "    }\n",
       "\n",
       "    .dataframe tbody tr th {\n",
       "        vertical-align: top;\n",
       "    }\n",
       "\n",
       "    .dataframe thead th {\n",
       "        text-align: right;\n",
       "    }\n",
       "</style>\n",
       "<table border=\"1\" class=\"dataframe\">\n",
       "  <thead>\n",
       "    <tr style=\"text-align: right;\">\n",
       "      <th></th>\n",
       "      <th>X1</th>\n",
       "      <th>X2</th>\n",
       "      <th>X3</th>\n",
       "      <th>X4</th>\n",
       "      <th>X6</th>\n",
       "      <th>X7</th>\n",
       "      <th>X8</th>\n",
       "      <th>X9</th>\n",
       "      <th>X10</th>\n",
       "      <th>X11</th>\n",
       "      <th>X18</th>\n",
       "      <th>X19</th>\n",
       "      <th>X20</th>\n",
       "      <th>X21</th>\n",
       "      <th>X22</th>\n",
       "      <th>X23</th>\n",
       "    </tr>\n",
       "  </thead>\n",
       "  <tbody>\n",
       "    <tr>\n",
       "      <th>0</th>\n",
       "      <td>20000</td>\n",
       "      <td>2</td>\n",
       "      <td>2</td>\n",
       "      <td>1</td>\n",
       "      <td>2</td>\n",
       "      <td>2</td>\n",
       "      <td>-1</td>\n",
       "      <td>-1</td>\n",
       "      <td>-2</td>\n",
       "      <td>-2</td>\n",
       "      <td>0</td>\n",
       "      <td>689</td>\n",
       "      <td>0</td>\n",
       "      <td>0</td>\n",
       "      <td>0</td>\n",
       "      <td>0</td>\n",
       "    </tr>\n",
       "    <tr>\n",
       "      <th>1</th>\n",
       "      <td>120000</td>\n",
       "      <td>2</td>\n",
       "      <td>2</td>\n",
       "      <td>2</td>\n",
       "      <td>-1</td>\n",
       "      <td>2</td>\n",
       "      <td>0</td>\n",
       "      <td>0</td>\n",
       "      <td>0</td>\n",
       "      <td>2</td>\n",
       "      <td>0</td>\n",
       "      <td>1000</td>\n",
       "      <td>1000</td>\n",
       "      <td>1000</td>\n",
       "      <td>0</td>\n",
       "      <td>2000</td>\n",
       "    </tr>\n",
       "    <tr>\n",
       "      <th>2</th>\n",
       "      <td>90000</td>\n",
       "      <td>2</td>\n",
       "      <td>2</td>\n",
       "      <td>2</td>\n",
       "      <td>0</td>\n",
       "      <td>0</td>\n",
       "      <td>0</td>\n",
       "      <td>0</td>\n",
       "      <td>0</td>\n",
       "      <td>0</td>\n",
       "      <td>1518</td>\n",
       "      <td>1500</td>\n",
       "      <td>1000</td>\n",
       "      <td>1000</td>\n",
       "      <td>1000</td>\n",
       "      <td>5000</td>\n",
       "    </tr>\n",
       "    <tr>\n",
       "      <th>3</th>\n",
       "      <td>50000</td>\n",
       "      <td>2</td>\n",
       "      <td>2</td>\n",
       "      <td>1</td>\n",
       "      <td>0</td>\n",
       "      <td>0</td>\n",
       "      <td>0</td>\n",
       "      <td>0</td>\n",
       "      <td>0</td>\n",
       "      <td>0</td>\n",
       "      <td>2000</td>\n",
       "      <td>2019</td>\n",
       "      <td>1200</td>\n",
       "      <td>1100</td>\n",
       "      <td>1069</td>\n",
       "      <td>1000</td>\n",
       "    </tr>\n",
       "    <tr>\n",
       "      <th>4</th>\n",
       "      <td>50000</td>\n",
       "      <td>1</td>\n",
       "      <td>2</td>\n",
       "      <td>1</td>\n",
       "      <td>-1</td>\n",
       "      <td>0</td>\n",
       "      <td>-1</td>\n",
       "      <td>0</td>\n",
       "      <td>0</td>\n",
       "      <td>0</td>\n",
       "      <td>2000</td>\n",
       "      <td>36681</td>\n",
       "      <td>10000</td>\n",
       "      <td>9000</td>\n",
       "      <td>689</td>\n",
       "      <td>679</td>\n",
       "    </tr>\n",
       "  </tbody>\n",
       "</table>\n",
       "</div>"
      ],
      "text/plain": [
       "       X1 X2 X3 X4  X6  X7  X8  X9  X10  X11   X18    X19    X20   X21   X22  \\\n",
       "0   20000  2  2  1   2   2  -1  -1   -2   -2     0    689      0     0     0   \n",
       "1  120000  2  2  2  -1   2   0   0    0    2     0   1000   1000  1000     0   \n",
       "2   90000  2  2  2   0   0   0   0    0    0  1518   1500   1000  1000  1000   \n",
       "3   50000  2  2  1   0   0   0   0    0    0  2000   2019   1200  1100  1069   \n",
       "4   50000  1  2  1  -1   0  -1   0    0    0  2000  36681  10000  9000   689   \n",
       "\n",
       "    X23  \n",
       "0     0  \n",
       "1  2000  \n",
       "2  5000  \n",
       "3  1000  \n",
       "4   679  "
      ]
     },
     "execution_count": 70,
     "metadata": {},
     "output_type": "execute_result"
    }
   ],
   "source": [
    "X_new=X.drop([\"X5\",\"X12\",\"X13\",\"X14\",\"X15\",\"X16\",\"X17\"],axis=1)\n",
    "X_new.head()"
   ]
  },
  {
   "cell_type": "code",
   "execution_count": 71,
   "metadata": {
    "colab": {
     "background_save": true
    },
    "id": "M6mhnIxwzS7a"
   },
   "outputs": [],
   "source": [
    "X_train_n,X_test_n,Y_train_n,Y_test_n=train_test_split(X_new,Y_resp,test_size=0.3,random_state=10)"
   ]
  },
  {
   "cell_type": "code",
   "execution_count": 72,
   "metadata": {
    "colab": {
     "background_save": true
    },
    "id": "pQzO6FN6CYil"
   },
   "outputs": [],
   "source": [
    "sc_x1 = StandardScaler()\n",
    "xtrain2 = sc_x1.fit_transform(X_train_n) \n",
    "xtest2 = sc_x1.transform(X_test_n) "
   ]
  },
  {
   "cell_type": "markdown",
   "metadata": {
    "id": "hBfjIBfh1HyJ"
   },
   "source": [
    "**RandomForest Classifier**"
   ]
  },
  {
   "cell_type": "code",
   "execution_count": 73,
   "metadata": {
    "colab": {
     "background_save": true
    },
    "id": "gi1xTlb3zxZh",
    "outputId": "a1010c3f-1415-4a97-d883-6a13d5de4e5e"
   },
   "outputs": [
    {
     "name": "stdout",
     "output_type": "stream",
     "text": [
      "              precision    recall  f1-score   support\n",
      "\n",
      "           0       0.84      0.96      0.89      6982\n",
      "           1       0.70      0.35      0.47      2018\n",
      "\n",
      "    accuracy                           0.82      9000\n",
      "   macro avg       0.77      0.65      0.68      9000\n",
      "weighted avg       0.80      0.82      0.80      9000\n",
      "\n"
     ]
    }
   ],
   "source": [
    "model_rf_new=RandomForestClassifier(n_estimators=500,max_depth=5)\n",
    "model_rf_new.fit(xtrain2,Y_train_n)\n",
    "y_pred_new=model_rf_new.predict(xtest2)\n",
    "print(classification_report(Y_test_n, y_pred_new))"
   ]
  },
  {
   "cell_type": "code",
   "execution_count": 74,
   "metadata": {
    "colab": {
     "background_save": true
    },
    "id": "F7QbsLgJ1Fz3",
    "outputId": "c5c66f90-fcd0-4821-c46f-80d872513e98"
   },
   "outputs": [
    {
     "name": "stdout",
     "output_type": "stream",
     "text": [
      "Accuracy score: 0.8202222222222222\n",
      "Precision score: 0.6956947162426614\n",
      "Recall score: 0.35232903865213083\n",
      "F1 score: 0.4677631578947369\n",
      "Misclassification score: 0.17977777777777781\n"
     ]
    }
   ],
   "source": [
    "print(\"Accuracy score: {}\".format(accuracy_score(Y_test_n,y_pred_new)))\n",
    "print(\"Precision score: {}\".format(precision_score(Y_test_n,y_pred_new)))\n",
    "print(\"Recall score: {}\".format(recall_score(Y_test_n,y_pred_new)))\n",
    "print(\"F1 score: {}\".format(f1_score(Y_test_n,y_pred_new)))\n",
    "print(\"Misclassification score: {}\".format((1-accuracy_score(Y_test_n,y_pred_new))))"
   ]
  },
  {
   "cell_type": "markdown",
   "metadata": {
    "id": "D0KVBnGY2RjE"
   },
   "source": [
    "**DecisionTree classifier**"
   ]
  },
  {
   "cell_type": "code",
   "execution_count": 75,
   "metadata": {
    "colab": {
     "background_save": true
    },
    "id": "Dab7uWtI2cTN",
    "outputId": "deb7d6a2-4bd8-46a1-a529-eea7e707f35d"
   },
   "outputs": [
    {
     "name": "stdout",
     "output_type": "stream",
     "text": [
      "              precision    recall  f1-score   support\n",
      "\n",
      "           0       0.84      0.95      0.89      6982\n",
      "           1       0.69      0.36      0.47      2018\n",
      "\n",
      "    accuracy                           0.82      9000\n",
      "   macro avg       0.76      0.65      0.68      9000\n",
      "weighted avg       0.80      0.82      0.80      9000\n",
      "\n"
     ]
    }
   ],
   "source": [
    "modelDT4=DecisionTreeClassifier(max_depth=5)\n",
    "modelDT4.fit(xtrain2,Y_train_n)\n",
    "y_predDT4=modelDT4.predict(xtest2)\n",
    "print(classification_report(Y_test_n, y_predDT4))"
   ]
  },
  {
   "cell_type": "code",
   "execution_count": 76,
   "metadata": {
    "colab": {
     "background_save": true
    },
    "id": "GRyhB4OG0n56",
    "outputId": "fd66f2c6-3433-4950-e337-64a47beea552"
   },
   "outputs": [
    {
     "name": "stdout",
     "output_type": "stream",
     "text": [
      "Accuracy score: 0.8195555555555556\n",
      "Precision score: 0.6894230769230769\n",
      "Recall score: 0.3553022794846383\n",
      "F1 score: 0.46893394375408765\n",
      "Misclassification score: 0.1804444444444444\n"
     ]
    }
   ],
   "source": [
    "print(\"Accuracy score: {}\".format(accuracy_score(Y_test_n,y_predDT4)))\n",
    "print(\"Precision score: {}\".format(precision_score(Y_test_n,y_predDT4)))\n",
    "print(\"Recall score: {}\".format(recall_score(Y_test_n,y_predDT4)))\n",
    "print(\"F1 score: {}\".format(f1_score(Y_test_n,y_predDT4)))\n",
    "print(\"Misclassification score: {}\".format((1-accuracy_score(Y_test_n,y_predDT4))))"
   ]
  },
  {
   "cell_type": "markdown",
   "metadata": {
    "id": "7tYxEeVf4MpW"
   },
   "source": [
    "**KNN**"
   ]
  },
  {
   "cell_type": "code",
   "execution_count": 77,
   "metadata": {
    "colab": {
     "background_save": true
    },
    "id": "-PkN5j2A4LyO",
    "outputId": "53c74464-c243-4a05-fe45-69e47edc934b"
   },
   "outputs": [
    {
     "name": "stdout",
     "output_type": "stream",
     "text": [
      "              precision    recall  f1-score   support\n",
      "\n",
      "           0       0.83      0.95      0.89      6982\n",
      "           1       0.66      0.35      0.46      2018\n",
      "\n",
      "    accuracy                           0.81      9000\n",
      "   macro avg       0.75      0.65      0.67      9000\n",
      "weighted avg       0.80      0.81      0.79      9000\n",
      "\n"
     ]
    }
   ],
   "source": [
    "model_knn3=KNeighborsClassifier(n_neighbors=31)\n",
    "model_knn3.fit(xtrain2,Y_train_n)\n",
    "y_predknn3=model_knn3.predict(xtest2)\n",
    "print(classification_report(Y_test_n,y_predknn3))"
   ]
  },
  {
   "cell_type": "code",
   "execution_count": 78,
   "metadata": {
    "colab": {
     "background_save": true
    },
    "id": "pMU9oTgS5LMN",
    "outputId": "9b52c963-972d-47b4-a128-d6a41b10852a"
   },
   "outputs": [
    {
     "data": {
      "text/plain": [
       "Text(0, 0.5, 'Error Rate')"
      ]
     },
     "execution_count": 78,
     "metadata": {},
     "output_type": "execute_result"
    },
    {
     "data": {
      "image/png": "[encoded data removed]",
      "text/plain": [
       "<Figure size 720x720 with 1 Axes>"
      ]
     },
     "metadata": {
      "needs_background": "light"
     },
     "output_type": "display_data"
    }
   ],
   "source": [
    "error_rate3= []\n",
    "  \n",
    "for i in range(10,90):\n",
    "    knn_classifier3 = KNeighborsClassifier(n_neighbors = i)\n",
    "    knn_classifier3.fit(xtrain2,Y_train_n)\n",
    "    pred_i3 = knn_classifier3.predict(xtest2)\n",
    "    error_rate3.append(np.mean(pred_i3 != Y_test_n))\n",
    "  \n",
    "plt.figure(figsize =(10, 10))\n",
    "plt.plot(range(10,90), error_rate3, color ='blue',\n",
    "                linestyle ='dashed', marker ='o',\n",
    "         markerfacecolor ='red', markersize = 10)\n",
    "  \n",
    "plt.title('Error Rate vs. K Value')\n",
    "plt.xlabel('K')\n",
    "plt.ylabel('Error Rate')"
   ]
  },
  {
   "cell_type": "code",
   "execution_count": 79,
   "metadata": {
    "colab": {
     "background_save": true
    },
    "id": "igXAmbKmziMd",
    "outputId": "b9e141e4-82ec-4102-dcf3-b86021a61765"
   },
   "outputs": [
    {
     "name": "stdout",
     "output_type": "stream",
     "text": [
      "Accuracy score: 0.814\n",
      "Precision score: 0.6610486891385767\n",
      "Recall score: 0.34985133795837464\n",
      "F1 score: 0.457550226830849\n",
      "Misclassification score: 0.18600000000000005\n"
     ]
    }
   ],
   "source": [
    "print(\"Accuracy score: {}\".format(accuracy_score(Y_test_n,y_predknn3)))\n",
    "print(\"Precision score: {}\".format(precision_score(Y_test_n,y_predknn3)))\n",
    "print(\"Recall score: {}\".format(recall_score(Y_test_n,y_predknn3)))\n",
    "print(\"F1 score: {}\".format(f1_score(Y_test_n,y_predknn3)))\n",
    "print(\"Misclassification score: {}\".format((1-accuracy_score(Y_test_n,y_predknn3))))"
   ]
  },
  {
   "cell_type": "markdown",
   "metadata": {
    "id": "Av2S9Xq96Qg4"
   },
   "source": [
    "**Using boosting techniques on Oversampled data**\n",
    "\n",
    "**AdaBoost**"
   ]
  },
  {
   "cell_type": "code",
   "execution_count": 80,
   "metadata": {
    "colab": {
     "background_save": true
    },
    "id": "g0wuYfbS6WD_"
   },
   "outputs": [],
   "source": [
    "from sklearn.ensemble import AdaBoostClassifier\n",
    "from sklearn import metrics"
   ]
  },
  {
   "cell_type": "code",
   "execution_count": 81,
   "metadata": {
    "colab": {
     "background_save": true
    },
    "id": "pYp9XiDdT1SL",
    "outputId": "352f386e-97a2-41ef-e3ef-97e16e799179"
   },
   "outputs": [
    {
     "data": {
      "text/plain": [
       "0.776"
      ]
     },
     "execution_count": 81,
     "metadata": {},
     "output_type": "execute_result"
    }
   ],
   "source": [
    "model_adaboost= AdaBoostClassifier(n_estimators=50,base_estimator=model_rf2,learning_rate=1,random_state=10)\n",
    "model_adaboost.fit(X_resampled,y_resampled)\n",
    "y_predADA = model_adaboost.predict(X_test)\n",
    "model_adaboost.score(X_test,Y_test)"
   ]
  },
  {
   "cell_type": "code",
   "execution_count": 82,
   "metadata": {
    "colab": {
     "background_save": true
    },
    "id": "9Hd7NX90V1YS",
    "outputId": "5be3f397-b6aa-4143-e4d1-41c8114ad757"
   },
   "outputs": [
    {
     "name": "stdout",
     "output_type": "stream",
     "text": [
      "              precision    recall  f1-score   support\n",
      "\n",
      "           0       0.87      0.83      0.85      6982\n",
      "           1       0.50      0.57      0.53      2018\n",
      "\n",
      "    accuracy                           0.78      9000\n",
      "   macro avg       0.69      0.70      0.69      9000\n",
      "weighted avg       0.79      0.78      0.78      9000\n",
      "\n"
     ]
    }
   ],
   "source": [
    "print(classification_report(Y_test,y_predADA))"
   ]
  },
  {
   "cell_type": "code",
   "execution_count": 83,
   "metadata": {
    "colab": {
     "background_save": true
    },
    "id": "_57Sr_N2nMz_",
    "outputId": "90561562-025b-47c9-b0e2-e277572f436c"
   },
   "outputs": [
    {
     "name": "stdout",
     "output_type": "stream",
     "text": [
      "Accuracy score: 0.776\n",
      "Precision score: 0.5004325259515571\n",
      "Recall score: 0.5733399405351833\n",
      "F1 score: 0.5344110854503464\n",
      "Misclassification score: 0.22399999999999998\n"
     ]
    }
   ],
   "source": [
    "print(\"Accuracy score: {}\".format(accuracy_score(Y_test,y_predADA)))\n",
    "print(\"Precision score: {}\".format(precision_score(Y_test,y_predADA)))\n",
    "print(\"Recall score: {}\".format(recall_score(Y_test,y_predADA)))\n",
    "print(\"F1 score: {}\".format(f1_score(Y_test,y_predADA)))\n",
    "print(\"Misclassification score: {}\".format((1-accuracy_score(Y_test,y_predADA))))"
   ]
  },
  {
   "cell_type": "markdown",
   "metadata": {
    "id": "5s3IA_ZSkDPt"
   },
   "source": [
    "**XG Boost**"
   ]
  },
  {
   "cell_type": "code",
   "execution_count": 84,
   "metadata": {
    "colab": {
     "background_save": true
    },
    "id": "RvQDuyvW9oe5",
    "outputId": "d7784e20-3e6e-41d1-e575-50661d4484b0"
   },
   "outputs": [
    {
     "data": {
      "text/html": [
       "<div>\n",
       "<style scoped>\n",
       "    .dataframe tbody tr th:only-of-type {\n",
       "        vertical-align: middle;\n",
       "    }\n",
       "\n",
       "    .dataframe tbody tr th {\n",
       "        vertical-align: top;\n",
       "    }\n",
       "\n",
       "    .dataframe thead th {\n",
       "        text-align: right;\n",
       "    }\n",
       "</style>\n",
       "<table border=\"1\" class=\"dataframe\">\n",
       "  <thead>\n",
       "    <tr style=\"text-align: right;\">\n",
       "      <th></th>\n",
       "      <th>X1</th>\n",
       "      <th>X2</th>\n",
       "      <th>X3</th>\n",
       "      <th>X4</th>\n",
       "      <th>X5</th>\n",
       "      <th>X6</th>\n",
       "      <th>X7</th>\n",
       "      <th>X8</th>\n",
       "      <th>X9</th>\n",
       "      <th>X10</th>\n",
       "      <th>...</th>\n",
       "      <th>X14</th>\n",
       "      <th>X15</th>\n",
       "      <th>X16</th>\n",
       "      <th>X17</th>\n",
       "      <th>X18</th>\n",
       "      <th>X19</th>\n",
       "      <th>X20</th>\n",
       "      <th>X21</th>\n",
       "      <th>X22</th>\n",
       "      <th>X23</th>\n",
       "    </tr>\n",
       "  </thead>\n",
       "  <tbody>\n",
       "    <tr>\n",
       "      <th>0</th>\n",
       "      <td>200000</td>\n",
       "      <td>2</td>\n",
       "      <td>3</td>\n",
       "      <td>2</td>\n",
       "      <td>29</td>\n",
       "      <td>-1</td>\n",
       "      <td>-1</td>\n",
       "      <td>-1</td>\n",
       "      <td>-1</td>\n",
       "      <td>0</td>\n",
       "      <td>...</td>\n",
       "      <td>12555</td>\n",
       "      <td>882</td>\n",
       "      <td>882</td>\n",
       "      <td>0</td>\n",
       "      <td>7485</td>\n",
       "      <td>12625</td>\n",
       "      <td>882</td>\n",
       "      <td>0</td>\n",
       "      <td>0</td>\n",
       "      <td>0</td>\n",
       "    </tr>\n",
       "    <tr>\n",
       "      <th>1</th>\n",
       "      <td>20000</td>\n",
       "      <td>1</td>\n",
       "      <td>2</td>\n",
       "      <td>2</td>\n",
       "      <td>23</td>\n",
       "      <td>1</td>\n",
       "      <td>2</td>\n",
       "      <td>0</td>\n",
       "      <td>0</td>\n",
       "      <td>0</td>\n",
       "      <td>...</td>\n",
       "      <td>19447</td>\n",
       "      <td>19312</td>\n",
       "      <td>17987</td>\n",
       "      <td>17822</td>\n",
       "      <td>1500</td>\n",
       "      <td>1500</td>\n",
       "      <td>1000</td>\n",
       "      <td>1000</td>\n",
       "      <td>1000</td>\n",
       "      <td>1000</td>\n",
       "    </tr>\n",
       "    <tr>\n",
       "      <th>2</th>\n",
       "      <td>180000</td>\n",
       "      <td>1</td>\n",
       "      <td>2</td>\n",
       "      <td>2</td>\n",
       "      <td>43</td>\n",
       "      <td>-1</td>\n",
       "      <td>-1</td>\n",
       "      <td>-2</td>\n",
       "      <td>-2</td>\n",
       "      <td>-2</td>\n",
       "      <td>...</td>\n",
       "      <td>2378</td>\n",
       "      <td>10396</td>\n",
       "      <td>2527</td>\n",
       "      <td>2173</td>\n",
       "      <td>5739</td>\n",
       "      <td>2385</td>\n",
       "      <td>10427</td>\n",
       "      <td>2534</td>\n",
       "      <td>2179</td>\n",
       "      <td>13903</td>\n",
       "    </tr>\n",
       "    <tr>\n",
       "      <th>3</th>\n",
       "      <td>180000</td>\n",
       "      <td>2</td>\n",
       "      <td>2</td>\n",
       "      <td>1</td>\n",
       "      <td>39</td>\n",
       "      <td>-1</td>\n",
       "      <td>-1</td>\n",
       "      <td>0</td>\n",
       "      <td>-1</td>\n",
       "      <td>0</td>\n",
       "      <td>...</td>\n",
       "      <td>11867</td>\n",
       "      <td>8111</td>\n",
       "      <td>6312</td>\n",
       "      <td>3739</td>\n",
       "      <td>11662</td>\n",
       "      <td>6003</td>\n",
       "      <td>8111</td>\n",
       "      <td>273</td>\n",
       "      <td>3739</td>\n",
       "      <td>6547</td>\n",
       "    </tr>\n",
       "    <tr>\n",
       "      <th>4</th>\n",
       "      <td>290000</td>\n",
       "      <td>2</td>\n",
       "      <td>2</td>\n",
       "      <td>2</td>\n",
       "      <td>29</td>\n",
       "      <td>-2</td>\n",
       "      <td>-1</td>\n",
       "      <td>-1</td>\n",
       "      <td>-1</td>\n",
       "      <td>-1</td>\n",
       "      <td>...</td>\n",
       "      <td>0</td>\n",
       "      <td>302</td>\n",
       "      <td>390</td>\n",
       "      <td>1278</td>\n",
       "      <td>1591</td>\n",
       "      <td>0</td>\n",
       "      <td>302</td>\n",
       "      <td>390</td>\n",
       "      <td>1278</td>\n",
       "      <td>0</td>\n",
       "    </tr>\n",
       "  </tbody>\n",
       "</table>\n",
       "<p>5 rows × 23 columns</p>\n",
       "</div>"
      ],
      "text/plain": [
       "       X1 X2 X3 X4  X5  X6  X7  X8  X9  X10  ...    X14    X15    X16    X17  \\\n",
       "0  200000  2  3  2  29  -1  -1  -1  -1    0  ...  12555    882    882      0   \n",
       "1   20000  1  2  2  23   1   2   0   0    0  ...  19447  19312  17987  17822   \n",
       "2  180000  1  2  2  43  -1  -1  -2  -2   -2  ...   2378  10396   2527   2173   \n",
       "3  180000  2  2  1  39  -1  -1   0  -1    0  ...  11867   8111   6312   3739   \n",
       "4  290000  2  2  2  29  -2  -1  -1  -1   -1  ...      0    302    390   1278   \n",
       "\n",
       "     X18    X19    X20   X21   X22    X23  \n",
       "0   7485  12625    882     0     0      0  \n",
       "1   1500   1500   1000  1000  1000   1000  \n",
       "2   5739   2385  10427  2534  2179  13903  \n",
       "3  11662   6003   8111   273  3739   6547  \n",
       "4   1591      0    302   390  1278      0  \n",
       "\n",
       "[5 rows x 23 columns]"
      ]
     },
     "execution_count": 84,
     "metadata": {},
     "output_type": "execute_result"
    }
   ],
   "source": [
    "X_resampled.head()"
   ]
  },
  {
   "cell_type": "code",
   "execution_count": 85,
   "metadata": {
    "colab": {
     "background_save": true
    },
    "id": "t9BbxIDq9wSK",
    "outputId": "6e63bee4-3d3f-4842-ea86-e67d5aa1d6fd"
   },
   "outputs": [
    {
     "data": {
      "text/plain": [
       "X1        int64\n",
       "X2     category\n",
       "X3     category\n",
       "X4     category\n",
       "X5        int64\n",
       "X6        int64\n",
       "X7        int64\n",
       "X8        int64\n",
       "X9        int64\n",
       "X10       int64\n",
       "X11       int64\n",
       "X12       int64\n",
       "X13       int64\n",
       "X14       int64\n",
       "X15       int64\n",
       "X16       int64\n",
       "X17       int64\n",
       "X18       int64\n",
       "X19       int64\n",
       "X20       int64\n",
       "X21       int64\n",
       "X22       int64\n",
       "X23       int64\n",
       "dtype: object"
      ]
     },
     "execution_count": 85,
     "metadata": {},
     "output_type": "execute_result"
    }
   ],
   "source": [
    "X_resampled.dtypes"
   ]
  },
  {
   "cell_type": "code",
   "execution_count": 86,
   "metadata": {
    "colab": {
     "background_save": true
    },
    "id": "-MHlSxOK95fJ",
    "outputId": "6b471510-8612-4f41-c65c-e2cb41561381"
   },
   "outputs": [
    {
     "data": {
      "text/html": [
       "<div>\n",
       "<style scoped>\n",
       "    .dataframe tbody tr th:only-of-type {\n",
       "        vertical-align: middle;\n",
       "    }\n",
       "\n",
       "    .dataframe tbody tr th {\n",
       "        vertical-align: top;\n",
       "    }\n",
       "\n",
       "    .dataframe thead th {\n",
       "        text-align: right;\n",
       "    }\n",
       "</style>\n",
       "<table border=\"1\" class=\"dataframe\">\n",
       "  <thead>\n",
       "    <tr style=\"text-align: right;\">\n",
       "      <th></th>\n",
       "      <th>X1</th>\n",
       "      <th>X5</th>\n",
       "      <th>X6</th>\n",
       "      <th>X7</th>\n",
       "      <th>X8</th>\n",
       "      <th>X9</th>\n",
       "      <th>X10</th>\n",
       "      <th>X11</th>\n",
       "      <th>X12</th>\n",
       "      <th>X13</th>\n",
       "      <th>...</th>\n",
       "      <th>X2_2</th>\n",
       "      <th>X3_1</th>\n",
       "      <th>X3_2</th>\n",
       "      <th>X3_3</th>\n",
       "      <th>X3_4</th>\n",
       "      <th>X3_5</th>\n",
       "      <th>X3_6</th>\n",
       "      <th>X4_1</th>\n",
       "      <th>X4_2</th>\n",
       "      <th>X4_3</th>\n",
       "    </tr>\n",
       "  </thead>\n",
       "  <tbody>\n",
       "    <tr>\n",
       "      <th>0</th>\n",
       "      <td>200000</td>\n",
       "      <td>29</td>\n",
       "      <td>-1</td>\n",
       "      <td>-1</td>\n",
       "      <td>-1</td>\n",
       "      <td>-1</td>\n",
       "      <td>0</td>\n",
       "      <td>0</td>\n",
       "      <td>5555</td>\n",
       "      <td>7485</td>\n",
       "      <td>...</td>\n",
       "      <td>1</td>\n",
       "      <td>0</td>\n",
       "      <td>0</td>\n",
       "      <td>1</td>\n",
       "      <td>0</td>\n",
       "      <td>0</td>\n",
       "      <td>0</td>\n",
       "      <td>0</td>\n",
       "      <td>1</td>\n",
       "      <td>0</td>\n",
       "    </tr>\n",
       "    <tr>\n",
       "      <th>1</th>\n",
       "      <td>20000</td>\n",
       "      <td>23</td>\n",
       "      <td>1</td>\n",
       "      <td>2</td>\n",
       "      <td>0</td>\n",
       "      <td>0</td>\n",
       "      <td>0</td>\n",
       "      <td>0</td>\n",
       "      <td>17682</td>\n",
       "      <td>18595</td>\n",
       "      <td>...</td>\n",
       "      <td>0</td>\n",
       "      <td>0</td>\n",
       "      <td>1</td>\n",
       "      <td>0</td>\n",
       "      <td>0</td>\n",
       "      <td>0</td>\n",
       "      <td>0</td>\n",
       "      <td>0</td>\n",
       "      <td>1</td>\n",
       "      <td>0</td>\n",
       "    </tr>\n",
       "    <tr>\n",
       "      <th>2</th>\n",
       "      <td>180000</td>\n",
       "      <td>43</td>\n",
       "      <td>-1</td>\n",
       "      <td>-1</td>\n",
       "      <td>-2</td>\n",
       "      <td>-2</td>\n",
       "      <td>-2</td>\n",
       "      <td>-2</td>\n",
       "      <td>5904</td>\n",
       "      <td>5715</td>\n",
       "      <td>...</td>\n",
       "      <td>0</td>\n",
       "      <td>0</td>\n",
       "      <td>1</td>\n",
       "      <td>0</td>\n",
       "      <td>0</td>\n",
       "      <td>0</td>\n",
       "      <td>0</td>\n",
       "      <td>0</td>\n",
       "      <td>1</td>\n",
       "      <td>0</td>\n",
       "    </tr>\n",
       "    <tr>\n",
       "      <th>3</th>\n",
       "      <td>180000</td>\n",
       "      <td>39</td>\n",
       "      <td>-1</td>\n",
       "      <td>-1</td>\n",
       "      <td>0</td>\n",
       "      <td>-1</td>\n",
       "      <td>0</td>\n",
       "      <td>0</td>\n",
       "      <td>2569</td>\n",
       "      <td>11662</td>\n",
       "      <td>...</td>\n",
       "      <td>1</td>\n",
       "      <td>0</td>\n",
       "      <td>1</td>\n",
       "      <td>0</td>\n",
       "      <td>0</td>\n",
       "      <td>0</td>\n",
       "      <td>0</td>\n",
       "      <td>1</td>\n",
       "      <td>0</td>\n",
       "      <td>0</td>\n",
       "    </tr>\n",
       "    <tr>\n",
       "      <th>4</th>\n",
       "      <td>290000</td>\n",
       "      <td>29</td>\n",
       "      <td>-2</td>\n",
       "      <td>-1</td>\n",
       "      <td>-1</td>\n",
       "      <td>-1</td>\n",
       "      <td>-1</td>\n",
       "      <td>-1</td>\n",
       "      <td>0</td>\n",
       "      <td>1591</td>\n",
       "      <td>...</td>\n",
       "      <td>1</td>\n",
       "      <td>0</td>\n",
       "      <td>1</td>\n",
       "      <td>0</td>\n",
       "      <td>0</td>\n",
       "      <td>0</td>\n",
       "      <td>0</td>\n",
       "      <td>0</td>\n",
       "      <td>1</td>\n",
       "      <td>0</td>\n",
       "    </tr>\n",
       "  </tbody>\n",
       "</table>\n",
       "<p>5 rows × 30 columns</p>\n",
       "</div>"
      ],
      "text/plain": [
       "       X1  X5  X6  X7  X8  X9  X10  X11    X12    X13  ...  X2_2  X3_1  X3_2  \\\n",
       "0  200000  29  -1  -1  -1  -1    0    0   5555   7485  ...     1     0     0   \n",
       "1   20000  23   1   2   0   0    0    0  17682  18595  ...     0     0     1   \n",
       "2  180000  43  -1  -1  -2  -2   -2   -2   5904   5715  ...     0     0     1   \n",
       "3  180000  39  -1  -1   0  -1    0    0   2569  11662  ...     1     0     1   \n",
       "4  290000  29  -2  -1  -1  -1   -1   -1      0   1591  ...     1     0     1   \n",
       "\n",
       "   X3_3  X3_4  X3_5  X3_6  X4_1  X4_2  X4_3  \n",
       "0     1     0     0     0     0     1     0  \n",
       "1     0     0     0     0     0     1     0  \n",
       "2     0     0     0     0     0     1     0  \n",
       "3     0     0     0     0     1     0     0  \n",
       "4     0     0     0     0     0     1     0  \n",
       "\n",
       "[5 rows x 30 columns]"
      ]
     },
     "execution_count": 86,
     "metadata": {},
     "output_type": "execute_result"
    }
   ],
   "source": [
    "X_encoded=pd.get_dummies(X_resampled,columns=['X2','X3','X4'],drop_first=True)\n",
    "X_encoded.head()"
   ]
  },
  {
   "cell_type": "code",
   "execution_count": 87,
   "metadata": {
    "colab": {
     "background_save": true
    },
    "id": "jORoMDkSVABy",
    "outputId": "1a7ab8b1-6d07-4049-da24-43a42ad01444"
   },
   "outputs": [
    {
     "data": {
      "text/html": [
       "<div>\n",
       "<style scoped>\n",
       "    .dataframe tbody tr th:only-of-type {\n",
       "        vertical-align: middle;\n",
       "    }\n",
       "\n",
       "    .dataframe tbody tr th {\n",
       "        vertical-align: top;\n",
       "    }\n",
       "\n",
       "    .dataframe thead th {\n",
       "        text-align: right;\n",
       "    }\n",
       "</style>\n",
       "<table border=\"1\" class=\"dataframe\">\n",
       "  <thead>\n",
       "    <tr style=\"text-align: right;\">\n",
       "      <th></th>\n",
       "      <th>X1</th>\n",
       "      <th>X5</th>\n",
       "      <th>X6</th>\n",
       "      <th>X7</th>\n",
       "      <th>X8</th>\n",
       "      <th>X9</th>\n",
       "      <th>X10</th>\n",
       "      <th>X11</th>\n",
       "      <th>X12</th>\n",
       "      <th>X13</th>\n",
       "      <th>...</th>\n",
       "      <th>X2_2</th>\n",
       "      <th>X3_1</th>\n",
       "      <th>X3_2</th>\n",
       "      <th>X3_3</th>\n",
       "      <th>X3_4</th>\n",
       "      <th>X3_5</th>\n",
       "      <th>X3_6</th>\n",
       "      <th>X4_1</th>\n",
       "      <th>X4_2</th>\n",
       "      <th>X4_3</th>\n",
       "    </tr>\n",
       "  </thead>\n",
       "  <tbody>\n",
       "    <tr>\n",
       "      <th>20412</th>\n",
       "      <td>160000</td>\n",
       "      <td>26</td>\n",
       "      <td>-1</td>\n",
       "      <td>-1</td>\n",
       "      <td>-1</td>\n",
       "      <td>-1</td>\n",
       "      <td>-1</td>\n",
       "      <td>0</td>\n",
       "      <td>5417</td>\n",
       "      <td>15134</td>\n",
       "      <td>...</td>\n",
       "      <td>0</td>\n",
       "      <td>1</td>\n",
       "      <td>0</td>\n",
       "      <td>0</td>\n",
       "      <td>0</td>\n",
       "      <td>0</td>\n",
       "      <td>0</td>\n",
       "      <td>0</td>\n",
       "      <td>1</td>\n",
       "      <td>0</td>\n",
       "    </tr>\n",
       "    <tr>\n",
       "      <th>1296</th>\n",
       "      <td>50000</td>\n",
       "      <td>29</td>\n",
       "      <td>1</td>\n",
       "      <td>2</td>\n",
       "      <td>2</td>\n",
       "      <td>2</td>\n",
       "      <td>0</td>\n",
       "      <td>0</td>\n",
       "      <td>37170</td>\n",
       "      <td>36297</td>\n",
       "      <td>...</td>\n",
       "      <td>0</td>\n",
       "      <td>0</td>\n",
       "      <td>1</td>\n",
       "      <td>0</td>\n",
       "      <td>0</td>\n",
       "      <td>0</td>\n",
       "      <td>0</td>\n",
       "      <td>0</td>\n",
       "      <td>1</td>\n",
       "      <td>0</td>\n",
       "    </tr>\n",
       "    <tr>\n",
       "      <th>3906</th>\n",
       "      <td>380000</td>\n",
       "      <td>33</td>\n",
       "      <td>0</td>\n",
       "      <td>0</td>\n",
       "      <td>0</td>\n",
       "      <td>0</td>\n",
       "      <td>0</td>\n",
       "      <td>0</td>\n",
       "      <td>112926</td>\n",
       "      <td>108573</td>\n",
       "      <td>...</td>\n",
       "      <td>1</td>\n",
       "      <td>1</td>\n",
       "      <td>0</td>\n",
       "      <td>0</td>\n",
       "      <td>0</td>\n",
       "      <td>0</td>\n",
       "      <td>0</td>\n",
       "      <td>1</td>\n",
       "      <td>0</td>\n",
       "      <td>0</td>\n",
       "    </tr>\n",
       "    <tr>\n",
       "      <th>20454</th>\n",
       "      <td>400000</td>\n",
       "      <td>26</td>\n",
       "      <td>0</td>\n",
       "      <td>0</td>\n",
       "      <td>0</td>\n",
       "      <td>0</td>\n",
       "      <td>0</td>\n",
       "      <td>0</td>\n",
       "      <td>98580</td>\n",
       "      <td>67946</td>\n",
       "      <td>...</td>\n",
       "      <td>0</td>\n",
       "      <td>1</td>\n",
       "      <td>0</td>\n",
       "      <td>0</td>\n",
       "      <td>0</td>\n",
       "      <td>0</td>\n",
       "      <td>0</td>\n",
       "      <td>0</td>\n",
       "      <td>1</td>\n",
       "      <td>0</td>\n",
       "    </tr>\n",
       "    <tr>\n",
       "      <th>5200</th>\n",
       "      <td>60000</td>\n",
       "      <td>34</td>\n",
       "      <td>0</td>\n",
       "      <td>0</td>\n",
       "      <td>0</td>\n",
       "      <td>0</td>\n",
       "      <td>0</td>\n",
       "      <td>0</td>\n",
       "      <td>55447</td>\n",
       "      <td>48270</td>\n",
       "      <td>...</td>\n",
       "      <td>1</td>\n",
       "      <td>1</td>\n",
       "      <td>0</td>\n",
       "      <td>0</td>\n",
       "      <td>0</td>\n",
       "      <td>0</td>\n",
       "      <td>0</td>\n",
       "      <td>0</td>\n",
       "      <td>1</td>\n",
       "      <td>0</td>\n",
       "    </tr>\n",
       "  </tbody>\n",
       "</table>\n",
       "<p>5 rows × 30 columns</p>\n",
       "</div>"
      ],
      "text/plain": [
       "           X1  X5  X6  X7  X8  X9  X10  X11     X12     X13  ...  X2_2  X3_1  \\\n",
       "20412  160000  26  -1  -1  -1  -1   -1    0    5417   15134  ...     0     1   \n",
       "1296    50000  29   1   2   2   2    0    0   37170   36297  ...     0     0   \n",
       "3906   380000  33   0   0   0   0    0    0  112926  108573  ...     1     1   \n",
       "20454  400000  26   0   0   0   0    0    0   98580   67946  ...     0     1   \n",
       "5200    60000  34   0   0   0   0    0    0   55447   48270  ...     1     1   \n",
       "\n",
       "       X3_2  X3_3  X3_4  X3_5  X3_6  X4_1  X4_2  X4_3  \n",
       "20412     0     0     0     0     0     0     1     0  \n",
       "1296      1     0     0     0     0     0     1     0  \n",
       "3906      0     0     0     0     0     1     0     0  \n",
       "20454     0     0     0     0     0     0     1     0  \n",
       "5200      0     0     0     0     0     0     1     0  \n",
       "\n",
       "[5 rows x 30 columns]"
      ]
     },
     "execution_count": 87,
     "metadata": {},
     "output_type": "execute_result"
    }
   ],
   "source": [
    "Xtest_encoded=pd.get_dummies(X_test,columns=['X2','X3','X4'],drop_first=True)\n",
    "Xtest_encoded.head()"
   ]
  },
  {
   "cell_type": "code",
   "execution_count": 88,
   "metadata": {
    "colab": {
     "background_save": true
    },
    "id": "JWSQ4kLBT_R1",
    "outputId": "99d1a67b-a37c-47a4-e755-79b682a33996"
   },
   "outputs": [
    {
     "data": {
      "text/plain": [
       "X1      int64\n",
       "X5      int64\n",
       "X6      int64\n",
       "X7      int64\n",
       "X8      int64\n",
       "X9      int64\n",
       "X10     int64\n",
       "X11     int64\n",
       "X12     int64\n",
       "X13     int64\n",
       "X14     int64\n",
       "X15     int64\n",
       "X16     int64\n",
       "X17     int64\n",
       "X18     int64\n",
       "X19     int64\n",
       "X20     int64\n",
       "X21     int64\n",
       "X22     int64\n",
       "X23     int64\n",
       "X2_2    uint8\n",
       "X3_1    uint8\n",
       "X3_2    uint8\n",
       "X3_3    uint8\n",
       "X3_4    uint8\n",
       "X3_5    uint8\n",
       "X3_6    uint8\n",
       "X4_1    uint8\n",
       "X4_2    uint8\n",
       "X4_3    uint8\n",
       "dtype: object"
      ]
     },
     "execution_count": 88,
     "metadata": {},
     "output_type": "execute_result"
    }
   ],
   "source": [
    "X_encoded.dtypes"
   ]
  },
  {
   "cell_type": "code",
   "execution_count": 89,
   "metadata": {
    "colab": {
     "background_save": true
    },
    "id": "OpIXJ88wkGiu"
   },
   "outputs": [],
   "source": [
    "import xgboost as xgb\n",
    "model_xg = xgb.XGBClassifier(learning_rate = 0.5,gamma=10, n_estimators = 30)"
   ]
  },
  {
   "cell_type": "code",
   "execution_count": 90,
   "metadata": {
    "colab": {
     "background_save": true
    },
    "id": "SNM9ebYzvqnm"
   },
   "outputs": [
    {
     "name": "stderr",
     "output_type": "stream",
     "text": [
      "C:\\Users\\Archita Biswas\\anaconda3\\lib\\site-packages\\xgboost\\sklearn.py:1224: UserWarning: The use of label encoder in XGBClassifier is deprecated and will be removed in a future release. To remove this warning, do the following: 1) Pass option use_label_encoder=False when constructing XGBClassifier object; and 2) Encode your labels (y) as integers starting with 0, i.e. 0, 1, 2, ..., [num_class - 1].\n",
      "  warnings.warn(label_encoder_deprecation_msg, UserWarning)\n"
     ]
    },
    {
     "name": "stdout",
     "output_type": "stream",
     "text": [
      "[12:23:49] WARNING: ..\\src\\learner.cc:1115: Starting in XGBoost 1.3.0, the default evaluation metric used with the objective 'binary:logistic' was changed from 'error' to 'logloss'. Explicitly set eval_metric if you'd like to restore the old behavior.\n"
     ]
    }
   ],
   "source": [
    "model_xg.fit(X_encoded,y_resampled)\n",
    "y_predxg = model_xg.predict(Xtest_encoded)"
   ]
  },
  {
   "cell_type": "code",
   "execution_count": 91,
   "metadata": {
    "colab": {
     "background_save": true
    },
    "id": "dEJ0ZBSp30p1",
    "outputId": "b60cf8e3-5e2d-4f2a-8ee7-a98613e5504a"
   },
   "outputs": [
    {
     "name": "stdout",
     "output_type": "stream",
     "text": [
      "              precision    recall  f1-score   support\n",
      "\n",
      "           0       0.88      0.80      0.84      6982\n",
      "           1       0.47      0.62      0.54      2018\n",
      "\n",
      "    accuracy                           0.76      9000\n",
      "   macro avg       0.67      0.71      0.69      9000\n",
      "weighted avg       0.79      0.76      0.77      9000\n",
      "\n"
     ]
    }
   ],
   "source": [
    "print(classification_report(Y_test,y_predxg))"
   ]
  },
  {
   "cell_type": "code",
   "execution_count": 92,
   "metadata": {
    "colab": {
     "background_save": true
    },
    "id": "6IfX-u-Py4G5",
    "outputId": "b251d43d-31e4-4cb2-c51d-7d9d4f028162"
   },
   "outputs": [
    {
     "name": "stdout",
     "output_type": "stream",
     "text": [
      "Accuracy score: 0.7572222222222222\n",
      "Precision score: 0.46894756415024175\n",
      "Recall score: 0.6248761149653121\n",
      "F1 score: 0.5357977480348416\n",
      "Misclassification score: 0.24277777777777776\n"
     ]
    }
   ],
   "source": [
    "print(\"Accuracy score: {}\".format(accuracy_score(Y_test,y_predxg)))\n",
    "print(\"Precision score: {}\".format(precision_score(Y_test,y_predxg)))\n",
    "print(\"Recall score: {}\".format(recall_score(Y_test,y_predxg)))\n",
    "print(\"F1 score: {}\".format(f1_score(Y_test,y_predxg)))\n",
    "print(\"Misclassification score: {}\".format((1-accuracy_score(Y_test,y_predxg))))"
   ]
  },
  {
   "cell_type": "code",
   "execution_count": 94,
   "metadata": {
    "colab": {
     "background_save": true
    },
    "id": "V5U2hsipL12f",
    "outputId": "04197fd0-1836-4cd1-ef75-532283b0e931"
   },
   "outputs": [
    {
     "name": "stderr",
     "output_type": "stream",
     "text": [
      "C:\\Users\\Archita Biswas\\anaconda3\\lib\\site-packages\\xgboost\\sklearn.py:1224: UserWarning: The use of label encoder in XGBClassifier is deprecated and will be removed in a future release. To remove this warning, do the following: 1) Pass option use_label_encoder=False when constructing XGBClassifier object; and 2) Encode your labels (y) as integers starting with 0, i.e. 0, 1, 2, ..., [num_class - 1].\n",
      "  warnings.warn(label_encoder_deprecation_msg, UserWarning)\n"
     ]
    },
    {
     "name": "stdout",
     "output_type": "stream",
     "text": [
      "[12:27:22] WARNING: ..\\src\\learner.cc:1115: Starting in XGBoost 1.3.0, the default evaluation metric used with the objective 'binary:logistic' was changed from 'error' to 'logloss'. Explicitly set eval_metric if you'd like to restore the old behavior.\n",
      "Best result: 0.6994872510345868 for {'gamma': 10, 'learning_rate': 0.5, 'n_estimators': 30}\n"
     ]
    }
   ],
   "source": [
    "xgb1 = xgb.XGBClassifier()\n",
    "\n",
    "# parameter to be searched\n",
    "param_grid = {'n_estimators': [10,30,50],\n",
    "              'gamma': [10,20,30,40,50],\n",
    "               'learning_rate': [0.1,0.3,0.5]}\n",
    "\n",
    "# find the best parameter   \n",
    "kfold = StratifiedKFold(n_splits=3, shuffle=True)\n",
    "grid_search = GridSearchCV(xgb1, param_grid, scoring=\"recall\", n_jobs=-1, cv=kfold)\n",
    "grid_result = grid_search.fit(X_encoded, y_resampled)\n",
    "\n",
    "print(f'Best result: {grid_result.best_score_} for {grid_result.best_params_}')"
   ]
  }
 ],
 "metadata": {
  "colab": {
   "collapsed_sections": [],
   "name": "Taiwan_data.ipynb",
   "provenance": []
  },
  "kernelspec": {
   "display_name": "Python 3",
   "language": "python",
   "name": "python3"
  },
  "language_info": {
   "codemirror_mode": {
    "name": "ipython",
    "version": 3
   },
   "file_extension": ".py",
   "mimetype": "text/x-python",
   "name": "python",
   "nbconvert_exporter": "python",
   "pygments_lexer": "ipython3",
   "version": "3.8.5"
  }
 },
 "nbformat": 4,
 "nbformat_minor": 1
}
